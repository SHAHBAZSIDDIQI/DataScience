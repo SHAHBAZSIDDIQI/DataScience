{
 "cells": [
  {
   "cell_type": "code",
   "execution_count": 1,
   "metadata": {},
   "outputs": [],
   "source": [
    "#The purpose of this Notebook is to evaluate all the algorithm in a structured manner"
   ]
  },
  {
   "cell_type": "code",
   "execution_count": 1,
   "metadata": {},
   "outputs": [],
   "source": [
    "import pandas as pd\n",
    "import numpy as np\n",
    "import random"
   ]
  },
  {
   "cell_type": "code",
   "execution_count": 2,
   "metadata": {},
   "outputs": [],
   "source": [
    "#Loading the original csv file \n",
    "Main_df = pd.read_csv('C:/Users/SHAHBAZ/ZS UserEmbedding/BERT Embedding/MainDF.csv')\n",
    "Main_df = Main_df[[\"AUTHOR_ID\",\"TRANS_AUTHOR_BIO\",\"Account Type\",\"Snippet\"]]"
   ]
  },
  {
   "cell_type": "code",
   "execution_count": 3,
   "metadata": {},
   "outputs": [],
   "source": [
    "def getlabelforUser(userEmb,categoryList):\n",
    "    listScoreUser = []\n",
    "    for category in categoryList:\n",
    "        listScoreUser.append(measureSimilarityMeanofUser(userEmb,category))    \n",
    "    m =  max(listScoreUser)    \n",
    "    return (listScoreUser.index(m) + 1)\n",
    "\n",
    "from scipy import spatial\n",
    "def measureSimilarityMeanofUser(userEmb,category):\n",
    "    sumsc = 0\n",
    "    for user in category:\n",
    "        res = 1 - spatial.distance.cosine(user,userEmb)\n",
    "        sumsc = sumsc + res\n",
    "    \n",
    "    mean = sumsc / len(category)\n",
    "    return mean"
   ]
  },
  {
   "cell_type": "code",
   "execution_count": 4,
   "metadata": {},
   "outputs": [],
   "source": [
    "def customSplit(MainList,label):\n",
    "    userEmList = MainList[2]\n",
    "    TestDataList = MainList[0]\n",
    "    labelList = MainList[1]\n",
    "    random.Random(7).shuffle(userEmList)\n",
    "    n = len(userEmList) - 10\n",
    "    for i in range(n):\n",
    "        labelList.append(label)\n",
    "    TestDataList.extend(userEmList[10:])\n",
    "    MainList[0] = TestDataList\n",
    "    MainList[1] = labelList\n",
    "    MainList[2] = userEmList[:10]\n",
    "    return MainList"
   ]
  },
  {
   "cell_type": "code",
   "execution_count": 5,
   "metadata": {},
   "outputs": [],
   "source": [
    "def PrintAllEvaluations(train_df):\n",
    "    labelList = []\n",
    "    TestDataList = []\n",
    "    tempList = []\n",
    "    MainList = []\n",
    "    MainList.append(TestDataList)\n",
    "    MainList.append(labelList)\n",
    "    MainList.append(tempList)\n",
    "    ### Starting with 8 Bins####\n",
    "    category1 = []\n",
    "    category2 = []\n",
    "    category3 = []\n",
    "    category4 = []\n",
    "    category5 = []\n",
    "    category6 = []\n",
    "    category7 = []\n",
    "    category8 = []\n",
    "    \n",
    "    for _,trow in train_df.iterrows():\n",
    "        if(trow['Label'] == 1.0):\n",
    "            category1.append(trow['Embedding'])\n",
    "        if(trow['Label'] == 2.0):\n",
    "            category2.append(trow['Embedding'])\n",
    "        if(trow['Label'] == 3.0):\n",
    "            category3.append(trow['Embedding'])\n",
    "        if(trow['Label'] == 4.0):\n",
    "            category4.append(trow['Embedding'])\n",
    "        if(trow['Label'] == 5.0):\n",
    "            category5.append(trow['Embedding'])\n",
    "        if(trow['Label'] == 6.0):\n",
    "            category6.append(trow['Embedding'])\n",
    "        if(trow['Label'] == 7.0):\n",
    "            category7.append(trow['Embedding'])\n",
    "        if(trow['Label'] == 8.0):\n",
    "            category8.append(trow['Embedding'])\n",
    "    \n",
    "    CategoryList = []\n",
    "    MainList[2] = category1 \n",
    "    MainList = customSplit(MainList,1)\n",
    "    category1 = MainList[2]\n",
    "    CategoryList.append(category1)\n",
    "    \n",
    "    MainList[2] = category2 \n",
    "    MainList = customSplit(MainList,2)\n",
    "    category2 = MainList[2]\n",
    "    CategoryList.append(category2)\n",
    "    \n",
    "    MainList[2] = category3 \n",
    "    MainList = customSplit(MainList,3)\n",
    "    category3 = MainList[2]\n",
    "    CategoryList.append(category3)\n",
    "    \n",
    "    MainList[2] = category4 \n",
    "    MainList = customSplit(MainList,4)\n",
    "    category4 = MainList[2]\n",
    "    CategoryList.append(category4)\n",
    "    \n",
    "    MainList[2] = category5 \n",
    "    MainList = customSplit(MainList,5)\n",
    "    category5 = MainList[2]\n",
    "    CategoryList.append(category5)\n",
    "    \n",
    "    MainList[2] = category6 \n",
    "    MainList = customSplit(MainList,6)\n",
    "    category6 = MainList[2]\n",
    "    CategoryList.append(category6)\n",
    "    \n",
    "    MainList[2] = category7 \n",
    "    MainList = customSplit(MainList,7)\n",
    "    category7 = MainList[2]\n",
    "    CategoryList.append(category7)\n",
    "    \n",
    "    MainList[2] = category8 \n",
    "    MainList = customSplit(MainList,8)\n",
    "    category8 = MainList[2]\n",
    "    CategoryList.append(category8)\n",
    "\n",
    "    TestDataList = MainList[0]\n",
    "    labelList = MainList[1]\n",
    "    \n",
    "    correct_prediction_All_8 = 0\n",
    "    for i in range(len(TestDataList)):\n",
    "        correct_label = labelList[i]\n",
    "        prediction = getlabelforUser(TestDataList[i],CategoryList)\n",
    "        if(correct_label == prediction):\n",
    "            correct_prediction_All_8 = correct_prediction_All_8 + 1\n",
    "\n",
    "    print(\"Prediction for Embedding Classification when classifying 8 categories\")\n",
    "    print(\"correct classification = \" + str(correct_prediction_All_8) + \" / \" + str(len(TestDataList)) + \" Mean : \" + str(correct_prediction_All_8 / len(TestDataList)))\n",
    "    \n",
    "    #### 4 category printing ####\n",
    "    category1 = []\n",
    "    category2 = []\n",
    "    category3 = []\n",
    "    category4 = []\n",
    "\n",
    "    for _,trow in train_df.iterrows():\n",
    "        if(trow['Label'] == 1.0):\n",
    "            category1.append(trow['Embedding'])\n",
    "        if(trow['Label'] == 2.0):\n",
    "            category2.append(trow['Embedding'])\n",
    "        if(trow['Label'] == 3.0):\n",
    "            category2.append(trow['Embedding'])\n",
    "        if(trow['Label'] == 4.0):\n",
    "            category2.append(trow['Embedding'])\n",
    "        if(trow['Label'] == 5.0):\n",
    "            category4.append(trow['Embedding'])\n",
    "        if(trow['Label'] == 6.0):\n",
    "            category2.append(trow['Embedding'])\n",
    "        if(trow['Label'] == 7.0):\n",
    "            category3.append(trow['Embedding'])\n",
    "        if(trow['Label'] == 8.0):\n",
    "            category2.append(trow['Embedding'])\n",
    "            \n",
    "    labelList = []\n",
    "    TestDataList = []\n",
    "    CategoryList = []\n",
    "    MainList[0] = TestDataList\n",
    "    MainList[1] = labelList\n",
    "    \n",
    "    MainList[2] = category1 \n",
    "    MainList = customSplit(MainList,1)\n",
    "    category1 = MainList[2]\n",
    "    CategoryList.append(category1)\n",
    "    \n",
    "    MainList[2] = category2 \n",
    "    MainList = customSplit(MainList,2)\n",
    "    category2 = MainList[2]\n",
    "    CategoryList.append(category2)\n",
    "    \n",
    "    MainList[2] = category3 \n",
    "    MainList = customSplit(MainList,3)\n",
    "    category3 = MainList[2]\n",
    "    CategoryList.append(category3)\n",
    "    \n",
    "    MainList[2] = category4 \n",
    "    MainList = customSplit(MainList,4)\n",
    "    category4 = MainList[2]\n",
    "    CategoryList.append(category4)\n",
    "    \n",
    "    TestDataList = MainList[0]\n",
    "    labelList = MainList[1]\n",
    "    \n",
    "    correct_prediction_All_4 = 0\n",
    "    for i in range(len(TestDataList)):\n",
    "        correct_label = labelList[i]\n",
    "        prediction = getlabelforUser(TestDataList[i],CategoryList)\n",
    "        if(correct_label == prediction):\n",
    "            correct_prediction_All_4 = correct_prediction_All_4 + 1\n",
    "\n",
    "    print(\"Prediction for Embedding Classification when classifying 4 categories\")\n",
    "    print(\"correct classification = \" + str(correct_prediction_All_4) + \" / \" + str(len(TestDataList)) + \" Mean : \" + str(correct_prediction_All_4 / len(TestDataList)))\n",
    "    \n",
    "    ##############Printing only 2 categories ######\n",
    "    category1 = []\n",
    "    category2 = []\n",
    "\n",
    "    for _,trow in train_df.iterrows():\n",
    "        if(trow['Label'] == 5.0):\n",
    "            category2.append(trow['Embedding'])\n",
    "        else:\n",
    "            category1.append(trow['Embedding'])\n",
    "            \n",
    "    labelList = []\n",
    "    TestDataList = []\n",
    "    CategoryList = []\n",
    "    MainList[0] = TestDataList\n",
    "    MainList[1] = labelList\n",
    "    \n",
    "    MainList[2] = category1 \n",
    "    MainList = customSplit(MainList,1)\n",
    "    category1 = MainList[2]\n",
    "    CategoryList.append(category1)\n",
    "    \n",
    "    MainList[2] = category2 \n",
    "    MainList = customSplit(MainList,2)\n",
    "    category2 = MainList[2]\n",
    "    CategoryList.append(category2)\n",
    "    \n",
    "    TestDataList = MainList[0]\n",
    "    labelList = MainList[1]\n",
    "    \n",
    "    correct_prediction_All_2 = 0\n",
    "    for i in range(len(TestDataList)):\n",
    "        correct_label = labelList[i]\n",
    "        prediction = getlabelforUser(TestDataList[i],CategoryList)\n",
    "        if(correct_label == prediction):\n",
    "            correct_prediction_All_2 = correct_prediction_All_2 + 1\n",
    "\n",
    "    print(\"Prediction for Embedding Classification when classifying 2 categories\")\n",
    "    print(\"correct classification = \" + str(correct_prediction_All_2) + \" / \" + str(len(TestDataList)) + \" Mean : \" + str(correct_prediction_All_2 / len(TestDataList)))\n",
    "    "
   ]
  },
  {
   "cell_type": "code",
   "execution_count": 6,
   "metadata": {},
   "outputs": [],
   "source": [
    "##########Loading and working with Matrix from embedding###############"
   ]
  },
  {
   "cell_type": "code",
   "execution_count": 7,
   "metadata": {},
   "outputs": [],
   "source": [
    "def CombineMatrix(Mat1,Mat2):\n",
    "    Mat = np.zeros((Mat1.shape[1] + Mat2.shape[1]))\n",
    "    for i in range (1,Mat1.shape[0]):\n",
    "        vec = []\n",
    "        vec = np.concatenate((vec,Mat1[i]), axis=None)\n",
    "        vec = np.concatenate((vec,Mat2[i]), axis=None)\n",
    "        Mat = np.vstack((Mat,vec))\n",
    "    return Mat   "
   ]
  },
  {
   "cell_type": "code",
   "execution_count": 8,
   "metadata": {},
   "outputs": [],
   "source": [
    "#Method to read a matrix in defined path \n",
    "def ReadMatfromPath(fileName):\n",
    "    ReadFilepath = \"C:/Users/SHAHBAZ/ZS UserEmbedding/BERT Embedding/\" + str(fileName) + \"_Matrix.txt\"\n",
    "    UserEmb = np.loadtxt(ReadFilepath)\n",
    "    return UserEmb\n",
    "\n",
    "#This method return the index of the sample data user in the main data table to extract embedding from the local matrix file\n",
    "def PreprareTrainDataEmb(Mat,authorId):\n",
    "    rowd = Main_df.loc[Main_df['AUTHOR_ID'] == authorId]\n",
    "    ind = rowd.index.values.astype(int)[0]\n",
    "    return Mat[ind]"
   ]
  },
  {
   "cell_type": "code",
   "execution_count": 9,
   "metadata": {},
   "outputs": [],
   "source": [
    "# method that inputs sample dataframe and Embedding matrix and output the evaluation score\n",
    "\n",
    "def TestingUserEmbedding(sample_df,EmbedMat):\n",
    "    sample_df['Embedding'] = \"\"\n",
    "    sample_df['Embedding'] = [PreprareTrainDataEmb(EmbedMat,x['AUTHOR_ID']) for _,x in sample_df.iterrows()]\n",
    "    PrintAllEvaluations(sample_df)\n"
   ]
  },
  {
   "cell_type": "code",
   "execution_count": 10,
   "metadata": {},
   "outputs": [],
   "source": [
    "#preparing sample dataframe\n",
    "sample_df = pd.read_csv('TrainData_1.csv')\n",
    "sample_df = sample_df.dropna()"
   ]
  },
  {
   "cell_type": "code",
   "execution_count": 77,
   "metadata": {},
   "outputs": [],
   "source": [
    "#### Testing Basic PostDoc Method###\n",
    "postDoc_600 = ReadMatfromPath('PostDoc_Basic')\n",
    "postDoc_600 = postDoc_600[:4280,:]"
   ]
  },
  {
   "cell_type": "code",
   "execution_count": 78,
   "metadata": {},
   "outputs": [
    {
     "name": "stdout",
     "output_type": "stream",
     "text": [
      "Prediction for Embedding Classification when classifying 8 categories\n",
      "correct classification = 25 / 219 Mean : 0.1141552511415525\n",
      "Prediction for Embedding Classification when classifying 4 categories\n",
      "correct classification = 78 / 259 Mean : 0.30115830115830117\n",
      "Prediction for Embedding Classification when classifying 2 categories\n",
      "correct classification = 94 / 279 Mean : 0.33691756272401435\n"
     ]
    }
   ],
   "source": [
    "TestingUserEmbedding(sample_df,postDoc_600)"
   ]
  },
  {
   "cell_type": "code",
   "execution_count": 55,
   "metadata": {},
   "outputs": [
    {
     "name": "stdout",
     "output_type": "stream",
     "text": [
      "Prediction for Embedding Classification when classifying 8 categories\n",
      "correct classification = 58 / 219 Mean : 0.2648401826484018\n",
      "Prediction for Embedding Classification when classifying 4 categories\n",
      "correct classification = 146 / 259 Mean : 0.5637065637065637\n",
      "Prediction for Embedding Classification when classifying 2 categories\n",
      "correct classification = 215 / 279 Mean : 0.7706093189964157\n"
     ]
    }
   ],
   "source": [
    "#######Testing BioBert embedding_ reduced 300 format######\n",
    "BioBert_reduced_300 = ReadMatfromPath('BioBERT_Combined_AutoEnc_Emb')\n",
    "BioBert_reduced_300 = BioBert_reduced_300[1:,:]   #elimination of first all zero row \n",
    "TestingUserEmbedding(sample_df,BioBert_reduced_300)"
   ]
  },
  {
   "cell_type": "code",
   "execution_count": 46,
   "metadata": {},
   "outputs": [
    {
     "name": "stdout",
     "output_type": "stream",
     "text": [
      "Prediction for Embedding Classification when classifying 8 categories\n",
      "correct classification = 62 / 219 Mean : 0.2831050228310502\n",
      "Prediction for Embedding Classification when classifying 4 categories\n",
      "correct classification = 141 / 259 Mean : 0.5444015444015444\n",
      "Prediction for Embedding Classification when classifying 2 categories\n",
      "correct classification = 214 / 279 Mean : 0.7670250896057348\n"
     ]
    }
   ],
   "source": [
    "####testing BioBert Full embedding 1536 dimenion #########\n",
    "BioBertSnippetEmbMat = ReadMatfromPath('BioBERT_SnippetEmb')\n",
    "BioBertAuthorInfoEmbMat = ReadMatfromPath('BioBERT_Autho_Info_Embedding')\n",
    "BioBERT_1536_Mat = CombineMatrix(BioBertSnippetEmbMat,BioBertAuthorInfoEmbMat)\n",
    "BioBERT_1536_Mat = BioBERT_1536_Mat[1: , :]\n",
    "TestingUserEmbedding(sample_df,BioBERT_1536_Mat)"
   ]
  },
  {
   "cell_type": "code",
   "execution_count": 18,
   "metadata": {
    "collapsed": true
   },
   "outputs": [
    {
     "name": "stdout",
     "output_type": "stream",
     "text": [
      "Prediction for Embedding Classification when classifying 8 categories\n",
      "correct classification = 61 / 219 Mean : 0.2785388127853881\n",
      "Prediction for Embedding Classification when classifying 4 categories\n",
      "correct classification = 122 / 259 Mean : 0.47104247104247104\n",
      "Prediction for Embedding Classification when classifying 2 categories\n",
      "correct classification = 215 / 279 Mean : 0.7706093189964157\n"
     ]
    }
   ],
   "source": [
    "######### Testing for only Author_Info ##########\n",
    "BioBertAuthorInfoEmbMat = BioBertAuthorInfoEmbMat[1: , :]\n",
    "TestingUserEmbedding(sample_df,BioBertAuthorInfoEmbMat)"
   ]
  },
  {
   "cell_type": "code",
   "execution_count": 79,
   "metadata": {},
   "outputs": [],
   "source": [
    "#################### Applying for CLINICAL BERT ####################"
   ]
  },
  {
   "cell_type": "code",
   "execution_count": 16,
   "metadata": {},
   "outputs": [],
   "source": [
    "ClinicalBertSnippetEmbMat = ReadMatfromPath('ClinalBERT_SnippetEmbedding')\n",
    "ClinicalBertAuthorInfoEmbMat = ReadMatfromPath('ClinalBERT_Autho_Info_Embedding')\n",
    "ClinicalBertCombinedEmbMat = ReadMatfromPath('ClinalBERT_Combined_AutoEnc_Emb')\n",
    "\n",
    "ClinicalBertCombinedEmbMat = ClinicalBertCombinedEmbMat[1:,:]\n",
    "ClinicalBertSnippetEmbMat = ClinicalBertSnippetEmbMat[1:,:]\n",
    "ClinicalBertAuthorInfoEmbMat = ClinicalBertAuthorInfoEmbMat[1:,:]"
   ]
  },
  {
   "cell_type": "code",
   "execution_count": 18,
   "metadata": {},
   "outputs": [
    {
     "name": "stdout",
     "output_type": "stream",
     "text": [
      "Prediction for Embedding Classification when classifying 8 categories\n",
      "correct classification = 53 / 219 Mean : 0.2420091324200913\n",
      "Prediction for Embedding Classification when classifying 4 categories\n",
      "correct classification = 103 / 259 Mean : 0.39768339768339767\n",
      "Prediction for Embedding Classification when classifying 2 categories\n",
      "correct classification = 214 / 279 Mean : 0.7670250896057348\n"
     ]
    }
   ],
   "source": [
    "#Testing for reduced format \n",
    "TestingUserEmbedding(sample_df,ClinicalBertCombinedEmbMat)"
   ]
  },
  {
   "cell_type": "code",
   "execution_count": 19,
   "metadata": {},
   "outputs": [],
   "source": [
    "#Testing for Combined 1536 format\n",
    "ClinicalBERT_1536_Mat = CombineMatrix(ClinicalBertSnippetEmbMat,ClinicalBertAuthorInfoEmbMat)"
   ]
  },
  {
   "cell_type": "code",
   "execution_count": 20,
   "metadata": {},
   "outputs": [
    {
     "name": "stderr",
     "output_type": "stream",
     "text": [
      "C:\\Users\\SHAHBAZ\\Anaconda3\\lib\\site-packages\\scipy\\spatial\\distance.py:720: RuntimeWarning: invalid value encountered in double_scalars\n",
      "  dist = 1.0 - uv / np.sqrt(uu * vv)\n"
     ]
    },
    {
     "name": "stdout",
     "output_type": "stream",
     "text": [
      "Prediction for Embedding Classification when classifying 8 categories\n",
      "correct classification = 65 / 219 Mean : 0.2968036529680365\n",
      "Prediction for Embedding Classification when classifying 4 categories\n",
      "correct classification = 109 / 259 Mean : 0.42084942084942084\n",
      "Prediction for Embedding Classification when classifying 2 categories\n",
      "correct classification = 214 / 279 Mean : 0.7670250896057348\n"
     ]
    }
   ],
   "source": [
    "TestingUserEmbedding(sample_df,ClinicalBERT_1536_Mat)"
   ]
  },
  {
   "cell_type": "code",
   "execution_count": 21,
   "metadata": {},
   "outputs": [
    {
     "name": "stdout",
     "output_type": "stream",
     "text": [
      "Prediction for Embedding Classification when classifying 8 categories\n",
      "correct classification = 56 / 219 Mean : 0.2557077625570776\n",
      "Prediction for Embedding Classification when classifying 4 categories\n",
      "correct classification = 80 / 259 Mean : 0.3088803088803089\n",
      "Prediction for Embedding Classification when classifying 2 categories\n",
      "correct classification = 215 / 279 Mean : 0.7706093189964157\n"
     ]
    }
   ],
   "source": [
    "#Testing for Clinical Bert Athor info only\n",
    "TestingUserEmbedding(sample_df,ClinicalBertAuthorInfoEmbMat)"
   ]
  },
  {
   "cell_type": "code",
   "execution_count": 89,
   "metadata": {},
   "outputs": [],
   "source": [
    "############### SCI BERT Evaluation ####################"
   ]
  },
  {
   "cell_type": "code",
   "execution_count": 22,
   "metadata": {},
   "outputs": [],
   "source": [
    "SciBertSnippetEmbMat = ReadMatfromPath('SciBERT_SnippetEmbedding')\n",
    "SciBertAuthorInfoEmbMat = ReadMatfromPath('SciBERT_Autho_Info_Embedding')\n",
    "SciBertCombinedEmbMat = ReadMatfromPath('SciBERT_Combined_Embedding')\n",
    "\n",
    "SciBertSnippetEmbMat = SciBertSnippetEmbMat[1:,:]\n",
    "SciBertAuthorInfoEmbMat = SciBertAuthorInfoEmbMat [1:,:]\n",
    "SciBertCombinedEmbMat = SciBertCombinedEmbMat [1:,:]"
   ]
  },
  {
   "cell_type": "code",
   "execution_count": 25,
   "metadata": {},
   "outputs": [],
   "source": [
    "SciBert_combine_1536 = CombineMatrix(SciBertSnippetEmbMat,SciBertAuthorInfoEmbMat)"
   ]
  },
  {
   "cell_type": "code",
   "execution_count": 26,
   "metadata": {},
   "outputs": [
    {
     "name": "stdout",
     "output_type": "stream",
     "text": [
      "Prediction for Embedding Classification when classifying 8 categories\n",
      "correct classification = 70 / 219 Mean : 0.319634703196347\n",
      "Prediction for Embedding Classification when classifying 4 categories\n",
      "correct classification = 70 / 259 Mean : 0.2702702702702703\n",
      "Prediction for Embedding Classification when classifying 2 categories\n",
      "correct classification = 224 / 279 Mean : 0.8028673835125448\n"
     ]
    }
   ],
   "source": [
    "#Testing for 1536 dimensional Scibert \n",
    "TestingUserEmbedding(sample_df,SciBert_combine_1536)"
   ]
  },
  {
   "cell_type": "code",
   "execution_count": 27,
   "metadata": {},
   "outputs": [
    {
     "name": "stdout",
     "output_type": "stream",
     "text": [
      "Prediction for Embedding Classification when classifying 8 categories\n",
      "correct classification = 62 / 219 Mean : 0.2831050228310502\n",
      "Prediction for Embedding Classification when classifying 4 categories\n",
      "correct classification = 115 / 259 Mean : 0.444015444015444\n",
      "Prediction for Embedding Classification when classifying 2 categories\n",
      "correct classification = 217 / 279 Mean : 0.7777777777777778\n"
     ]
    }
   ],
   "source": [
    "#Testiing for Reduced dimension SciBert\n",
    "TestingUserEmbedding(sample_df,SciBertCombinedEmbMat)"
   ]
  },
  {
   "cell_type": "code",
   "execution_count": 28,
   "metadata": {},
   "outputs": [
    {
     "name": "stdout",
     "output_type": "stream",
     "text": [
      "Prediction for Embedding Classification when classifying 8 categories\n",
      "correct classification = 64 / 219 Mean : 0.2922374429223744\n",
      "Prediction for Embedding Classification when classifying 4 categories\n",
      "correct classification = 99 / 259 Mean : 0.38223938223938225\n",
      "Prediction for Embedding Classification when classifying 2 categories\n",
      "correct classification = 220 / 279 Mean : 0.7885304659498208\n"
     ]
    }
   ],
   "source": [
    "#Testing for AuthorInfo Only\n",
    "TestingUserEmbedding(sample_df,SciBertAuthorInfoEmbMat)"
   ]
  },
  {
   "cell_type": "code",
   "execution_count": 37,
   "metadata": {},
   "outputs": [],
   "source": [
    "################### USER DOC Approach Evaluation ###############"
   ]
  },
  {
   "cell_type": "code",
   "execution_count": 38,
   "metadata": {},
   "outputs": [
    {
     "name": "stdout",
     "output_type": "stream",
     "text": [
      "Prediction for Embedding Classification when classifying 8 categories\n",
      "correct classification = 22 / 219 Mean : 0.1004566210045662\n",
      "Prediction for Embedding Classification when classifying 4 categories\n",
      "correct classification = 128 / 259 Mean : 0.4942084942084942\n",
      "Prediction for Embedding Classification when classifying 2 categories\n",
      "correct classification = 160 / 279 Mean : 0.5734767025089605\n"
     ]
    }
   ],
   "source": [
    "#Using BioBERT generated embedding for both Author Info and Tweets\n",
    "UserDoc_BioBert_1536 = ReadMatfromPath('BioBERT_UserDoc_Full')\n",
    "TestingUserEmbedding(sample_df,UserDoc_BioBert_1536)"
   ]
  },
  {
   "cell_type": "code",
   "execution_count": 39,
   "metadata": {},
   "outputs": [
    {
     "name": "stdout",
     "output_type": "stream",
     "text": [
      "Prediction for Embedding Classification when classifying 8 categories\n",
      "correct classification = 21 / 219 Mean : 0.0958904109589041\n",
      "Prediction for Embedding Classification when classifying 4 categories\n",
      "correct classification = 128 / 259 Mean : 0.4942084942084942\n",
      "Prediction for Embedding Classification when classifying 2 categories\n",
      "correct classification = 162 / 279 Mean : 0.5806451612903226\n"
     ]
    }
   ],
   "source": [
    "# Testing the form reduced to 300 dimension\n",
    "UserDoc_BioBert_300 = ReadMatfromPath('BioBERT_UserDoc_Combined')\n",
    "TestingUserEmbedding(sample_df,UserDoc_BioBert_300)"
   ]
  },
  {
   "cell_type": "code",
   "execution_count": 40,
   "metadata": {},
   "outputs": [
    {
     "name": "stdout",
     "output_type": "stream",
     "text": [
      "Prediction for Embedding Classification when classifying 8 categories\n",
      "correct classification = 49 / 219 Mean : 0.2237442922374429\n",
      "Prediction for Embedding Classification when classifying 4 categories\n",
      "correct classification = 130 / 259 Mean : 0.5019305019305019\n",
      "Prediction for Embedding Classification when classifying 2 categories\n",
      "correct classification = 161 / 279 Mean : 0.5770609318996416\n"
     ]
    }
   ],
   "source": [
    "# Testing for SciBERT generated embedding for both Author Info and Tweets combined to form vector of 1536 dimension\n",
    "UserDoc_Scibert1536 = ReadMatfromPath('SciBERT_UserDoc_1536')\n",
    "TestingUserEmbedding(sample_df,UserDoc_Scibert1536)"
   ]
  },
  {
   "cell_type": "code",
   "execution_count": 41,
   "metadata": {},
   "outputs": [
    {
     "name": "stdout",
     "output_type": "stream",
     "text": [
      "Prediction for Embedding Classification when classifying 8 categories\n",
      "correct classification = 57 / 219 Mean : 0.2602739726027397\n",
      "Prediction for Embedding Classification when classifying 4 categories\n",
      "correct classification = 131 / 259 Mean : 0.5057915057915058\n",
      "Prediction for Embedding Classification when classifying 2 categories\n",
      "correct classification = 161 / 279 Mean : 0.5770609318996416\n"
     ]
    }
   ],
   "source": [
    "#Testing the reduced version \n",
    "UserDoc_Scibert300 = ReadMatfromPath('SciBERT_UserDoc_Combined')\n",
    "TestingUserEmbedding(sample_df,UserDoc_Scibert300)"
   ]
  },
  {
   "cell_type": "code",
   "execution_count": 42,
   "metadata": {},
   "outputs": [
    {
     "name": "stdout",
     "output_type": "stream",
     "text": [
      "Prediction for Embedding Classification when classifying 8 categories\n",
      "correct classification = 22 / 219 Mean : 0.1004566210045662\n",
      "Prediction for Embedding Classification when classifying 4 categories\n",
      "correct classification = 127 / 259 Mean : 0.49034749034749037\n",
      "Prediction for Embedding Classification when classifying 2 categories\n",
      "correct classification = 160 / 279 Mean : 0.5734767025089605\n"
     ]
    }
   ],
   "source": [
    "# Testing for ClinicalBERT generated embedding for both Author Info and Tweets combined to form vector of 1536 dimension\n",
    "UserDoc_Clinicalbert1536 = ReadMatfromPath('ClinicalBERT_UserDoc_1536')\n",
    "TestingUserEmbedding(sample_df,UserDoc_Clinicalbert1536)"
   ]
  },
  {
   "cell_type": "code",
   "execution_count": 43,
   "metadata": {},
   "outputs": [
    {
     "name": "stdout",
     "output_type": "stream",
     "text": [
      "Prediction for Embedding Classification when classifying 8 categories\n",
      "correct classification = 18 / 219 Mean : 0.0821917808219178\n",
      "Prediction for Embedding Classification when classifying 4 categories\n",
      "correct classification = 124 / 259 Mean : 0.47876447876447875\n",
      "Prediction for Embedding Classification when classifying 2 categories\n",
      "correct classification = 160 / 279 Mean : 0.5734767025089605\n"
     ]
    }
   ],
   "source": [
    "#Testing the reduced version \n",
    "UserDoc_Clinicalbert300 = ReadMatfromPath('ClinicalBERT_UserDoc_Combined')\n",
    "TestingUserEmbedding(sample_df,UserDoc_Clinicalbert300)"
   ]
  },
  {
   "cell_type": "code",
   "execution_count": 29,
   "metadata": {},
   "outputs": [],
   "source": [
    "############  MultiView evaluations #############"
   ]
  },
  {
   "cell_type": "code",
   "execution_count": 35,
   "metadata": {},
   "outputs": [],
   "source": [
    "####### Using Network Representation Generated using Linear Method############"
   ]
  },
  {
   "cell_type": "code",
   "execution_count": 30,
   "metadata": {},
   "outputs": [
    {
     "name": "stdout",
     "output_type": "stream",
     "text": [
      "Prediction for Embedding Classification when classifying 8 categories\n",
      "correct classification = 19 / 219 Mean : 0.0867579908675799\n",
      "Prediction for Embedding Classification when classifying 4 categories\n",
      "correct classification = 28 / 259 Mean : 0.10810810810810811\n",
      "Prediction for Embedding Classification when classifying 2 categories\n",
      "correct classification = 199 / 279 Mean : 0.7132616487455197\n"
     ]
    }
   ],
   "source": [
    "#Using BioBERT generated Single view from Text and Network representation from Linear method\n",
    "#merged to generate embedding of 300 dim\n",
    "MultiViewEmbMat = ReadMatfromPath('MultiViewBioBert_Graph_Emb300')  #Only for top 1000 users, inorder to test\n",
    "TestingUserEmbedding(sample_df,MultiViewEmbMat)"
   ]
  },
  {
   "cell_type": "code",
   "execution_count": 31,
   "metadata": {},
   "outputs": [
    {
     "name": "stdout",
     "output_type": "stream",
     "text": [
      "Prediction for Embedding Classification when classifying 8 categories\n",
      "correct classification = 18 / 219 Mean : 0.0821917808219178\n",
      "Prediction for Embedding Classification when classifying 4 categories\n",
      "correct classification = 18 / 259 Mean : 0.0694980694980695\n",
      "Prediction for Embedding Classification when classifying 2 categories\n",
      "correct classification = 217 / 279 Mean : 0.7777777777777778\n"
     ]
    }
   ],
   "source": [
    "# Testing single view from network represenatation generated using Linear method.\n",
    "GbasedEmb = ReadMatfromPath('GraphEmbedding_UserDoc')\n",
    "TestingUserEmbedding(sample_df,GbasedEmb)"
   ]
  },
  {
   "cell_type": "code",
   "execution_count": 32,
   "metadata": {},
   "outputs": [
    {
     "name": "stdout",
     "output_type": "stream",
     "text": [
      "Prediction for Embedding Classification when classifying 8 categories\n",
      "correct classification = 14 / 219 Mean : 0.0639269406392694\n",
      "Prediction for Embedding Classification when classifying 4 categories\n",
      "correct classification = 25 / 259 Mean : 0.09652509652509653\n",
      "Prediction for Embedding Classification when classifying 2 categories\n",
      "correct classification = 134 / 279 Mean : 0.48028673835125446\n"
     ]
    }
   ],
   "source": [
    "# Testing MultiView using Single View Embedding from Text for both Author Info as well as Tweets using BioBERT\n",
    "# Merging with network representation of Dimension 200. Finally merged and reduced to 300 dimension \n",
    "BioBert1786to300 = ReadMatfromPath('Test_BiOBERT_1786to300')\n",
    "TestingUserEmbedding(sample_df,BioBert1786to300)"
   ]
  },
  {
   "cell_type": "code",
   "execution_count": 33,
   "metadata": {},
   "outputs": [
    {
     "name": "stdout",
     "output_type": "stream",
     "text": [
      "Prediction for Embedding Classification when classifying 8 categories\n",
      "correct classification = 19 / 219 Mean : 0.0867579908675799\n",
      "Prediction for Embedding Classification when classifying 4 categories\n",
      "correct classification = 33 / 259 Mean : 0.1274131274131274\n",
      "Prediction for Embedding Classification when classifying 2 categories\n",
      "correct classification = 99 / 279 Mean : 0.3548387096774194\n"
     ]
    }
   ],
   "source": [
    "#Testing the same with 400 dimension for comparision and 200 dimension\n",
    "BioBert1786to400 = ReadMatfromPath('Test_BiOBERT_1786to400')\n",
    "TestingUserEmbedding(sample_df,BioBert1786to400)"
   ]
  },
  {
   "cell_type": "code",
   "execution_count": 34,
   "metadata": {},
   "outputs": [
    {
     "name": "stdout",
     "output_type": "stream",
     "text": [
      "Prediction for Embedding Classification when classifying 8 categories\n",
      "correct classification = 36 / 219 Mean : 0.1643835616438356\n",
      "Prediction for Embedding Classification when classifying 4 categories\n",
      "correct classification = 52 / 259 Mean : 0.20077220077220076\n",
      "Prediction for Embedding Classification when classifying 2 categories\n",
      "correct classification = 91 / 279 Mean : 0.32616487455197135\n"
     ]
    }
   ],
   "source": [
    "BioBert1786to200 = ReadMatfromPath('Test_BiOBERT_1786to200')\n",
    "TestingUserEmbedding(sample_df,BioBert1786to200)"
   ]
  },
  {
   "cell_type": "code",
   "execution_count": 36,
   "metadata": {},
   "outputs": [
    {
     "name": "stdout",
     "output_type": "stream",
     "text": [
      "Prediction for Embedding Classification when classifying 8 categories\n",
      "correct classification = 23 / 219 Mean : 0.1050228310502283\n",
      "Prediction for Embedding Classification when classifying 4 categories\n",
      "correct classification = 27 / 259 Mean : 0.10424710424710425\n",
      "Prediction for Embedding Classification when classifying 2 categories\n",
      "correct classification = 143 / 279 Mean : 0.5125448028673835\n"
     ]
    }
   ],
   "source": [
    "# Testing MultiView using Single View Embedding from Text for both Author Info as well as Tweets using SCiBERT\n",
    "SciBert1786to300 = ReadMatfromPath('Test_SciBERT_1786to300')\n",
    "TestingUserEmbedding(sample_df,SciBert1786to300)"
   ]
  },
  {
   "cell_type": "code",
   "execution_count": 43,
   "metadata": {},
   "outputs": [],
   "source": [
    "#####Testing for Network Representation using Non Linear Method#####\n",
    "#### DEEP WALK#######"
   ]
  },
  {
   "cell_type": "code",
   "execution_count": 44,
   "metadata": {},
   "outputs": [],
   "source": [
    "DeepWalkEmb = ReadMatfromPath('DeepWalk')   # This is 100 dimensional vector\n",
    "DeepWalkEmb = DeepWalkEmb[:4280] ### Taking only 4280 records in order to match "
   ]
  },
  {
   "cell_type": "code",
   "execution_count": 47,
   "metadata": {},
   "outputs": [
    {
     "name": "stdout",
     "output_type": "stream",
     "text": [
      "Prediction for Embedding Classification when classifying 8 categories\n",
      "correct classification = 60 / 219 Mean : 0.273972602739726\n",
      "Prediction for Embedding Classification when classifying 4 categories\n",
      "correct classification = 149 / 259 Mean : 0.5752895752895753\n",
      "Prediction for Embedding Classification when classifying 2 categories\n",
      "correct classification = 213 / 279 Mean : 0.7634408602150538\n"
     ]
    }
   ],
   "source": [
    "# Testing MultiView generated from combining text single view from BioBERT for both Author Info and Tweets merged with \n",
    "#Network embedding generated using Deep Walk method.\n",
    "BioBertMultiview = CombineMatrix(BioBERT_1536_Mat,DeepWalkEmb)\n",
    "TestingUserEmbedding(sample_df,BioBertMultiview)"
   ]
  },
  {
   "cell_type": "code",
   "execution_count": 48,
   "metadata": {},
   "outputs": [],
   "source": [
    "#Checking for along 200 dimesional data generated for network representation\n",
    "DeepWalk_200Emb = ReadMatfromPath('DeepWalk_200')  \n",
    "DeepWalk_200Emb = DeepWalk_200Emb[:4280]"
   ]
  },
  {
   "cell_type": "code",
   "execution_count": 49,
   "metadata": {},
   "outputs": [
    {
     "name": "stdout",
     "output_type": "stream",
     "text": [
      "Prediction for Embedding Classification when classifying 8 categories\n",
      "correct classification = 63 / 219 Mean : 0.2876712328767123\n",
      "Prediction for Embedding Classification when classifying 4 categories\n",
      "correct classification = 146 / 259 Mean : 0.5637065637065637\n",
      "Prediction for Embedding Classification when classifying 2 categories\n",
      "correct classification = 214 / 279 Mean : 0.7670250896057348\n"
     ]
    }
   ],
   "source": [
    "BioBertMultiview_1786 = CombineMatrix(BioBERT_1536_Mat,DeepWalk_200Emb)\n",
    "TestingUserEmbedding(sample_df,BioBertMultiview_1786)"
   ]
  },
  {
   "cell_type": "code",
   "execution_count": 50,
   "metadata": {},
   "outputs": [
    {
     "name": "stdout",
     "output_type": "stream",
     "text": [
      "Prediction for Embedding Classification when classifying 8 categories\n",
      "correct classification = 61 / 219 Mean : 0.2785388127853881\n",
      "Prediction for Embedding Classification when classifying 4 categories\n",
      "correct classification = 145 / 259 Mean : 0.5598455598455598\n",
      "Prediction for Embedding Classification when classifying 2 categories\n",
      "correct classification = 211 / 279 Mean : 0.7562724014336918\n"
     ]
    }
   ],
   "source": [
    "#Checking for along 300 dimesional data generated for network representation\n",
    "DeepWalk_300Emb = ReadMatfromPath('DeepWalk_300')\n",
    "DeepWalk_300Emb = DeepWalk_300Emb[:4280]\n",
    "BioBertMultiview_1836 = CombineMatrix(BioBERT_1536_Mat,DeepWalk_300Emb)\n",
    "TestingUserEmbedding(sample_df,BioBertMultiview_1836)"
   ]
  },
  {
   "cell_type": "code",
   "execution_count": 51,
   "metadata": {},
   "outputs": [],
   "source": [
    "# Observation: 100 dimensional graph Embedding from Deep Walk performed best improvements ####"
   ]
  },
  {
   "cell_type": "code",
   "execution_count": 52,
   "metadata": {},
   "outputs": [],
   "source": [
    "### Checking for Reduction in dimension for improvements -- Reduction performed using AutoEncoder in colab"
   ]
  },
  {
   "cell_type": "code",
   "execution_count": 53,
   "metadata": {},
   "outputs": [
    {
     "name": "stdout",
     "output_type": "stream",
     "text": [
      "Prediction for Embedding Classification when classifying 8 categories\n",
      "correct classification = 64 / 219 Mean : 0.2922374429223744\n",
      "Prediction for Embedding Classification when classifying 4 categories\n",
      "correct classification = 109 / 259 Mean : 0.42084942084942084\n",
      "Prediction for Embedding Classification when classifying 2 categories\n",
      "correct classification = 213 / 279 Mean : 0.7634408602150538\n"
     ]
    }
   ],
   "source": [
    "#using same Bio BERT\n",
    "MultiView_reduced_1636to768 = ReadMatfromPath('MultiView_DeepWalk_1636to768')\n",
    "TestingUserEmbedding(sample_df,MultiView_reduced_1636to768)"
   ]
  },
  {
   "cell_type": "code",
   "execution_count": 54,
   "metadata": {},
   "outputs": [
    {
     "name": "stdout",
     "output_type": "stream",
     "text": [
      "Prediction for Embedding Classification when classifying 8 categories\n",
      "correct classification = 60 / 219 Mean : 0.273972602739726\n",
      "Prediction for Embedding Classification when classifying 4 categories\n",
      "correct classification = 117 / 259 Mean : 0.4517374517374517\n",
      "Prediction for Embedding Classification when classifying 2 categories\n",
      "correct classification = 213 / 279 Mean : 0.7634408602150538\n"
     ]
    }
   ],
   "source": [
    "MultiView_reduced_1636to550 = ReadMatfromPath('MultiView_DeepWalk_1636to550')\n",
    "TestingUserEmbedding(sample_df,MultiView_reduced_1636to550)"
   ]
  },
  {
   "cell_type": "code",
   "execution_count": 56,
   "metadata": {},
   "outputs": [
    {
     "name": "stdout",
     "output_type": "stream",
     "text": [
      "Prediction for Embedding Classification when classifying 8 categories\n",
      "correct classification = 61 / 219 Mean : 0.2785388127853881\n",
      "Prediction for Embedding Classification when classifying 4 categories\n",
      "correct classification = 169 / 259 Mean : 0.6525096525096525\n",
      "Prediction for Embedding Classification when classifying 2 categories\n",
      "correct classification = 215 / 279 Mean : 0.7706093189964157\n"
     ]
    }
   ],
   "source": [
    "#Using Reduced version of Text based Embedding generated from BioBERT merged with \n",
    "#Network Based Embedding from DeepWalk at dimension 100. \n",
    "MultiView_BioBertReduced_Deepwalk_400 = CombineMatrix(BioBert_reduced_300,DeepWalkEmb)\n",
    "TestingUserEmbedding(sample_df,MultiView_BioBertReduced_Deepwalk_400)"
   ]
  },
  {
   "cell_type": "code",
   "execution_count": 57,
   "metadata": {},
   "outputs": [
    {
     "name": "stdout",
     "output_type": "stream",
     "text": [
      "Prediction for Embedding Classification when classifying 8 categories\n",
      "correct classification = 61 / 219 Mean : 0.2785388127853881\n",
      "Prediction for Embedding Classification when classifying 4 categories\n",
      "correct classification = 156 / 259 Mean : 0.6023166023166023\n",
      "Prediction for Embedding Classification when classifying 2 categories\n",
      "correct classification = 214 / 279 Mean : 0.7670250896057348\n"
     ]
    }
   ],
   "source": [
    "#Testing if reduction of dimension using AutoEncoder improves the quality\n",
    "MultiView_BioBertReduced_Deepwalk_400to300 = ReadMatfromPath('MultiView_DeepWalk_reduced_biobert_400to300')\n",
    "TestingUserEmbedding(sample_df,MultiView_BioBertReduced_Deepwalk_400to300)"
   ]
  },
  {
   "cell_type": "code",
   "execution_count": 58,
   "metadata": {},
   "outputs": [],
   "source": [
    "#Testing for SciBert merged with DeepWalk"
   ]
  },
  {
   "cell_type": "code",
   "execution_count": 59,
   "metadata": {},
   "outputs": [
    {
     "name": "stdout",
     "output_type": "stream",
     "text": [
      "Prediction for Embedding Classification when classifying 8 categories\n",
      "correct classification = 66 / 219 Mean : 0.3013698630136986\n",
      "Prediction for Embedding Classification when classifying 4 categories\n",
      "correct classification = 71 / 259 Mean : 0.27413127413127414\n",
      "Prediction for Embedding Classification when classifying 2 categories\n",
      "correct classification = 222 / 279 Mean : 0.7956989247311828\n"
     ]
    }
   ],
   "source": [
    "# Scibert generated single view embedding using both Author Info and Tweets merged with network representation of Deepwalk\n",
    "MultiView_Scibert_deepwalk_full = CombineMatrix(SciBert_combine_1536,DeepWalkEmb)\n",
    "TestingUserEmbedding(sample_df,MultiView_Scibert_deepwalk_full)"
   ]
  },
  {
   "cell_type": "code",
   "execution_count": 60,
   "metadata": {},
   "outputs": [
    {
     "name": "stdout",
     "output_type": "stream",
     "text": [
      "Prediction for Embedding Classification when classifying 8 categories\n",
      "correct classification = 60 / 219 Mean : 0.273972602739726\n",
      "Prediction for Embedding Classification when classifying 4 categories\n",
      "correct classification = 128 / 259 Mean : 0.4942084942084942\n",
      "Prediction for Embedding Classification when classifying 2 categories\n",
      "correct classification = 217 / 279 Mean : 0.7777777777777778\n"
     ]
    }
   ],
   "source": [
    "# MultiView generated by merging reduced dimension of SciBert generated embedding and Deepwalk\n",
    "MultiView_Scibert_400 = CombineMatrix(SciBertCombinedEmbMat,DeepWalkEmb)\n",
    "TestingUserEmbedding(sample_df,MultiView_Scibert_400)"
   ]
  },
  {
   "cell_type": "code",
   "execution_count": 61,
   "metadata": {},
   "outputs": [],
   "source": [
    "#Testing for Clinical Bert Merged with DeepWalk"
   ]
  },
  {
   "cell_type": "code",
   "execution_count": 62,
   "metadata": {},
   "outputs": [
    {
     "name": "stdout",
     "output_type": "stream",
     "text": [
      "Prediction for Embedding Classification when classifying 8 categories\n",
      "correct classification = 46 / 219 Mean : 0.2100456621004566\n",
      "Prediction for Embedding Classification when classifying 4 categories\n",
      "correct classification = 128 / 259 Mean : 0.4942084942084942\n",
      "Prediction for Embedding Classification when classifying 2 categories\n",
      "correct classification = 214 / 279 Mean : 0.7670250896057348\n"
     ]
    }
   ],
   "source": [
    "# Clinicalbert generated single view embedding using both Author Info and Tweets merged with network representation of Deepwalk\n",
    "MultiView_Clinicalbert_deepwalk_full = CombineMatrix(ClinicalBERT_1536_Mat,DeepWalkEmb)\n",
    "TestingUserEmbedding(sample_df,MultiView_Clinicalbert_deepwalk_full)"
   ]
  },
  {
   "cell_type": "code",
   "execution_count": 63,
   "metadata": {},
   "outputs": [
    {
     "name": "stdout",
     "output_type": "stream",
     "text": [
      "Prediction for Embedding Classification when classifying 8 categories\n",
      "correct classification = 57 / 219 Mean : 0.2602739726027397\n",
      "Prediction for Embedding Classification when classifying 4 categories\n",
      "correct classification = 144 / 259 Mean : 0.555984555984556\n",
      "Prediction for Embedding Classification when classifying 2 categories\n",
      "correct classification = 210 / 279 Mean : 0.7526881720430108\n"
     ]
    }
   ],
   "source": [
    "# MultiView generated by merging reduced dimension of ClinicalBert generated embedding and Deepwalk\n",
    "MultiView_Clinicalbert_400 = CombineMatrix(ClinicalBertCombinedEmbMat,DeepWalkEmb)\n",
    "TestingUserEmbedding(sample_df,MultiView_Clinicalbert_400)"
   ]
  },
  {
   "cell_type": "code",
   "execution_count": 64,
   "metadata": {},
   "outputs": [],
   "source": [
    "## NODE2VEC ######"
   ]
  },
  {
   "cell_type": "code",
   "execution_count": 66,
   "metadata": {},
   "outputs": [],
   "source": [
    "node2vec_100 = ReadMatfromPath('Node2Vec_100')\n",
    "node2vec_100 = node2vec_100[:4280,:]"
   ]
  },
  {
   "cell_type": "code",
   "execution_count": 67,
   "metadata": {},
   "outputs": [
    {
     "name": "stdout",
     "output_type": "stream",
     "text": [
      "Prediction for Embedding Classification when classifying 8 categories\n",
      "correct classification = 62 / 219 Mean : 0.2831050228310502\n",
      "Prediction for Embedding Classification when classifying 4 categories\n",
      "correct classification = 165 / 259 Mean : 0.637065637065637\n",
      "Prediction for Embedding Classification when classifying 2 categories\n",
      "correct classification = 214 / 279 Mean : 0.7670250896057348\n"
     ]
    }
   ],
   "source": [
    "# Testing MultiView generated from combining text single view from BioBERT for both Author Info and Tweets merged with \n",
    "#Network embedding generated using Node2vec method.\n",
    "BioBertMultiview_Node2vec = CombineMatrix(BioBERT_1536_Mat,node2vec_100)\n",
    "TestingUserEmbedding(sample_df,BioBertMultiview_Node2vec)"
   ]
  },
  {
   "cell_type": "code",
   "execution_count": 68,
   "metadata": {},
   "outputs": [
    {
     "name": "stdout",
     "output_type": "stream",
     "text": [
      "Prediction for Embedding Classification when classifying 8 categories\n",
      "correct classification = 46 / 219 Mean : 0.2100456621004566\n",
      "Prediction for Embedding Classification when classifying 4 categories\n",
      "correct classification = 180 / 259 Mean : 0.694980694980695\n",
      "Prediction for Embedding Classification when classifying 2 categories\n",
      "correct classification = 213 / 279 Mean : 0.7634408602150538\n"
     ]
    }
   ],
   "source": [
    "#Using Reduced version of Text based Embedding generated from BioBERT merged with \n",
    "#Network Based Embedding from Node2Vec at dimension 100. \n",
    "MultiView_BioBertReduced_Node2vec_400 = CombineMatrix(BioBert_reduced_300,node2vec_100)\n",
    "TestingUserEmbedding(sample_df,MultiView_BioBertReduced_Node2vec_400)"
   ]
  },
  {
   "cell_type": "code",
   "execution_count": 69,
   "metadata": {},
   "outputs": [],
   "source": [
    "#Testing for SciBert merged with Node2vec"
   ]
  },
  {
   "cell_type": "code",
   "execution_count": 70,
   "metadata": {},
   "outputs": [
    {
     "name": "stdout",
     "output_type": "stream",
     "text": [
      "Prediction for Embedding Classification when classifying 8 categories\n",
      "correct classification = 66 / 219 Mean : 0.3013698630136986\n",
      "Prediction for Embedding Classification when classifying 4 categories\n",
      "correct classification = 84 / 259 Mean : 0.32432432432432434\n",
      "Prediction for Embedding Classification when classifying 2 categories\n",
      "correct classification = 223 / 279 Mean : 0.7992831541218638\n"
     ]
    }
   ],
   "source": [
    "# Scibert generated single view embedding using both Author Info and Tweets merged with network representation of Node2Vec\n",
    "MultiView_Scibert_node2vec_full = CombineMatrix(SciBert_combine_1536,node2vec_100)\n",
    "TestingUserEmbedding(sample_df,MultiView_Scibert_node2vec_full)"
   ]
  },
  {
   "cell_type": "code",
   "execution_count": 71,
   "metadata": {},
   "outputs": [
    {
     "name": "stdout",
     "output_type": "stream",
     "text": [
      "Prediction for Embedding Classification when classifying 8 categories\n",
      "correct classification = 69 / 219 Mean : 0.3150684931506849\n",
      "Prediction for Embedding Classification when classifying 4 categories\n",
      "correct classification = 151 / 259 Mean : 0.583011583011583\n",
      "Prediction for Embedding Classification when classifying 2 categories\n",
      "correct classification = 217 / 279 Mean : 0.7777777777777778\n"
     ]
    }
   ],
   "source": [
    "# MultiView generated by merging reduced dimension of SciBert generated embedding and node2vec\n",
    "MultiView_Scibert_Node2vec_400 = CombineMatrix(SciBertCombinedEmbMat,node2vec_100)\n",
    "TestingUserEmbedding(sample_df,MultiView_Scibert_Node2vec_400)"
   ]
  },
  {
   "cell_type": "code",
   "execution_count": 72,
   "metadata": {},
   "outputs": [],
   "source": [
    "#Testing for Clinical Bert Merged with Node2Vec"
   ]
  },
  {
   "cell_type": "code",
   "execution_count": 73,
   "metadata": {},
   "outputs": [
    {
     "name": "stdout",
     "output_type": "stream",
     "text": [
      "Prediction for Embedding Classification when classifying 8 categories\n",
      "correct classification = 61 / 219 Mean : 0.2785388127853881\n",
      "Prediction for Embedding Classification when classifying 4 categories\n",
      "correct classification = 144 / 259 Mean : 0.555984555984556\n",
      "Prediction for Embedding Classification when classifying 2 categories\n",
      "correct classification = 214 / 279 Mean : 0.7670250896057348\n"
     ]
    }
   ],
   "source": [
    "# Clinicalbert generated single view embedding using both Author Info and Tweets merged with network representation of node2vec\n",
    "MultiView_Clinicalbert_node2vec_full = CombineMatrix(ClinicalBERT_1536_Mat,node2vec_100)\n",
    "TestingUserEmbedding(sample_df,MultiView_Clinicalbert_node2vec_full)"
   ]
  },
  {
   "cell_type": "code",
   "execution_count": 74,
   "metadata": {},
   "outputs": [
    {
     "name": "stdout",
     "output_type": "stream",
     "text": [
      "Prediction for Embedding Classification when classifying 8 categories\n",
      "correct classification = 42 / 219 Mean : 0.1917808219178082\n",
      "Prediction for Embedding Classification when classifying 4 categories\n",
      "correct classification = 171 / 259 Mean : 0.6602316602316602\n",
      "Prediction for Embedding Classification when classifying 2 categories\n",
      "correct classification = 208 / 279 Mean : 0.7455197132616488\n"
     ]
    }
   ],
   "source": [
    "# MultiView generated by merging reduced dimension of ClinicalBert generated embedding and node2vec\n",
    "MultiView_Clinicalbert_node2vec_400 = CombineMatrix(ClinicalBertCombinedEmbMat,node2vec_100)\n",
    "TestingUserEmbedding(sample_df,MultiView_Clinicalbert_node2vec_400)"
   ]
  },
  {
   "cell_type": "code",
   "execution_count": null,
   "metadata": {},
   "outputs": [],
   "source": []
  }
 ],
 "metadata": {
  "kernelspec": {
   "display_name": "Python 3",
   "language": "python",
   "name": "python3"
  },
  "language_info": {
   "codemirror_mode": {
    "name": "ipython",
    "version": 3
   },
   "file_extension": ".py",
   "mimetype": "text/x-python",
   "name": "python",
   "nbconvert_exporter": "python",
   "pygments_lexer": "ipython3",
   "version": "3.7.3"
  }
 },
 "nbformat": 4,
 "nbformat_minor": 2
}
