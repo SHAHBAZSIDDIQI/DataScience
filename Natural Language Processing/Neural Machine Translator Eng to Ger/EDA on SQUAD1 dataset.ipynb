{
  "nbformat": 4,
  "nbformat_minor": 0,
  "metadata": {
    "colab": {
      "name": "squad.ipynb",
      "provenance": [],
      "collapsed_sections": []
    },
    "kernelspec": {
      "name": "python3",
      "display_name": "Python 3"
    }
  },
  "cells": [
    {
      "cell_type": "code",
      "metadata": {
        "id": "GEjJgUVhP3iK",
        "colab_type": "code",
        "colab": {}
      },
      "source": [
        "from google.colab import drive\n",
        "drive.mount('/content/gdrive')"
      ],
      "execution_count": null,
      "outputs": []
    },
    {
      "cell_type": "code",
      "metadata": {
        "id": "il6CpOI0Qfz8",
        "colab_type": "code",
        "colab": {
          "base_uri": "https://localhost:8080/",
          "height": 34
        },
        "outputId": "17ea3d4b-a1c9-4f7c-8f98-789ad844c739"
      },
      "source": [
        "!ls /content/gdrive/'My Drive/Colab Notebooks/SQUAD'"
      ],
      "execution_count": null,
      "outputs": [
        {
          "output_type": "stream",
          "text": [
            "ls: cannot access '/content/gdrive/My Drive/Colab Notebooks/SQUAD': No such file or directory\n"
          ],
          "name": "stdout"
        }
      ]
    },
    {
      "cell_type": "code",
      "metadata": {
        "id": "3ZeZnalQQt4k",
        "colab_type": "code",
        "colab": {}
      },
      "source": [
        "import numpy as np \n",
        "import pandas as pd\n",
        "import json\n",
        "import re\n",
        "import nltk\n",
        "nltk.download('punkt')\n",
        "from tqdm import tqdm\n",
        "from textblob import TextBlob\n"
      ],
      "execution_count": null,
      "outputs": []
    },
    {
      "cell_type": "code",
      "metadata": {
        "id": "uaXI7Sl-Q0Es",
        "colab_type": "code",
        "colab": {}
      },
      "source": [
        "dev = pd.read_json('/content/drive/My Drive/Colab Notebooks/SQUAD/data/dev-v1.1.json')\n",
        "train = pd.read_json('/content/drive/My Drive/Colab Notebooks/SQUAD/data/train-v1.1.json')\n",
        "\n",
        "print(train.shape)\n",
        "print(dev.shape)"
      ],
      "execution_count": null,
      "outputs": []
    },
    {
      "cell_type": "code",
      "metadata": {
        "id": "Pyn8GzxzKz7F",
        "colab_type": "code",
        "colab": {}
      },
      "source": [
        "train.data [0]"
      ],
      "execution_count": null,
      "outputs": []
    },
    {
      "cell_type": "code",
      "metadata": {
        "id": "VQrbcRWZQ5ot",
        "colab_type": "code",
        "colab": {}
      },
      "source": [
        "contexts = []\n",
        "questions = []\n",
        "answers_text = []\n",
        "answers_start = []\n",
        "title = []\n",
        "for i in range(train.shape[0]):\n",
        "    topic = train.iloc[i,0]['paragraphs']\n",
        "    title_ = train.iloc[i,0]['title']\n",
        "    for sub_para in topic:\n",
        "        for q_a in sub_para['qas']:\n",
        "            questions.append(q_a['question'])\n",
        "            if len(q_a['answers'])>0 :\n",
        "                answers_start.append(q_a['answers'][0]['answer_start']) \n",
        "                answers_text.append(q_a['answers'][0]['text'])\n",
        "            else:\n",
        "                answers_start.append(None)\n",
        "                answers_text.append(None)\n",
        "            contexts.append(sub_para['context'])\n",
        "            title.append(title_)\n",
        "            \n",
        "# test data\n",
        "\n",
        "test_contexts = []\n",
        "test_questions = []\n",
        "test_answers_text = []\n",
        "test_answers_start = []\n",
        "test_title = []\n",
        "for i in range(dev.shape[0]):\n",
        "    topic = dev.iloc[i,0]['paragraphs']\n",
        "    title_ = dev.iloc[i,0]['title']\n",
        "    for sub_para in topic:\n",
        "        for q_a in sub_para['qas']:\n",
        "            test_questions.append(q_a['question'])\n",
        "            if len(q_a['answers'])>0 :\n",
        "                test_answers_start.append(q_a['answers'][0]['answer_start']) \n",
        "                test_answers_text.append(q_a['answers'][0]['text'])\n",
        "            else:\n",
        "                test_answers_start.append(None)\n",
        "                test_answers_text.append(None)\n",
        "            test_contexts.append(sub_para['context'])\n",
        "            test_title.append(title_)"
      ],
      "execution_count": null,
      "outputs": []
    },
    {
      "cell_type": "code",
      "metadata": {
        "id": "-8Bnb1NRM3xP",
        "colab_type": "code",
        "colab": {
          "base_uri": "https://localhost:8080/",
          "height": 103
        },
        "outputId": "96e56297-7323-4bac-9faf-f4b2ade6713c"
      },
      "source": [
        "test_contexts[0]"
      ],
      "execution_count": null,
      "outputs": [
        {
          "output_type": "execute_result",
          "data": {
            "application/vnd.google.colaboratory.intrinsic+json": {
              "type": "string"
            },
            "text/plain": [
              "'Super Bowl 50 was an American football game to determine the champion of the National Football League (NFL) for the 2015 season. The American Football Conference (AFC) champion Denver Broncos defeated the National Football Conference (NFC) champion Carolina Panthers 24–10 to earn their third Super Bowl title. The game was played on February 7, 2016, at Levi\\'s Stadium in the San Francisco Bay Area at Santa Clara, California. As this was the 50th Super Bowl, the league emphasized the \"golden anniversary\" with various gold-themed initiatives, as well as temporarily suspending the tradition of naming each Super Bowl game with Roman numerals (under which the game would have been known as \"Super Bowl L\"), so that the logo could prominently feature the Arabic numerals 50.'"
            ]
          },
          "metadata": {
            "tags": []
          },
          "execution_count": 10
        }
      ]
    },
    {
      "cell_type": "code",
      "metadata": {
        "id": "vP5p6AQPQ7ac",
        "colab_type": "code",
        "colab": {}
      },
      "source": [
        "\n",
        "train = pd.DataFrame({\"context\":contexts, \"question\": questions, \"answer_start\": answers_start, \"text\": answers_text,'title':title})\n",
        "train.dropna(inplace=True)\n",
        "\n",
        "train.info()"
      ],
      "execution_count": null,
      "outputs": []
    },
    {
      "cell_type": "code",
      "metadata": {
        "id": "7pzY81OtRAIH",
        "colab_type": "code",
        "colab": {}
      },
      "source": [
        "dev = pd.DataFrame({\"context\":test_contexts, \"question\": test_questions, \"answer_start\": test_answers_start, \"text\": test_answers_text,'title':test_title})\n",
        "dev.dropna(inplace=True)\n",
        "dev.info()"
      ],
      "execution_count": null,
      "outputs": []
    },
    {
      "cell_type": "code",
      "metadata": {
        "id": "fRMyinhzRFHm",
        "colab_type": "code",
        "colab": {}
      },
      "source": [
        "train.head()"
      ],
      "execution_count": null,
      "outputs": []
    },
    {
      "cell_type": "code",
      "metadata": {
        "id": "yVnNJNC7RHxf",
        "colab_type": "code",
        "colab": {}
      },
      "source": [
        "dev.head()"
      ],
      "execution_count": null,
      "outputs": []
    },
    {
      "cell_type": "markdown",
      "metadata": {
        "id": "kLHPm9IxRMBa",
        "colab_type": "text"
      },
      "source": [
        "Data Preprocessing"
      ]
    },
    {
      "cell_type": "code",
      "metadata": {
        "id": "KLILopvrRNo6",
        "colab_type": "code",
        "colab": {}
      },
      "source": [
        "def decontracted(phrase):\n",
        "    \"\"\"\n",
        "    This function remooves punctuation from given sentence.\n",
        "    \"\"\"\n",
        "    # specific\n",
        "    phrase = re.sub(r\"won't\", \"will not\", phrase)\n",
        "    phrase = re.sub(r\"can\\'t\", \"can not\", phrase)\n",
        "\n",
        "    # general\n",
        "    phrase = re.sub(r\"n\\'t\", \" not\", phrase)\n",
        "    phrase = re.sub(r\"\\'re\", \" are\", phrase)\n",
        "    phrase = re.sub(r\"\\'s\", \" is\", phrase)\n",
        "    phrase = re.sub(r\"\\'d\", \" would\", phrase)\n",
        "    phrase = re.sub(r\"\\'ll\", \" will\", phrase)\n",
        "    phrase = re.sub(r\"\\'t\", \" not\", phrase)\n",
        "    phrase = re.sub(r\"\\'ve\", \" have\", phrase)\n",
        "    phrase = re.sub(r\"\\'m\", \" am\", phrase)\n",
        "    \n",
        "    # string operation\n",
        "    phrase = phrase.replace('\\\\r', ' ')\n",
        "    phrase = phrase.replace('\\\\\"', ' ')\n",
        "    phrase = phrase.replace('\\\\n', ' ')\n",
        "\n",
        "    phrase = re.sub('[^A-Za-z0-9]+', ' ', phrase.lower())\n",
        "    \n",
        "    return phrase"
      ],
      "execution_count": null,
      "outputs": []
    },
    {
      "cell_type": "code",
      "metadata": {
        "id": "HICpxDPdRRg-",
        "colab_type": "code",
        "colab": {}
      },
      "source": [
        "def tokenize(sentence):\n",
        "    \"\"\"\n",
        "    Returns tokenised words.\n",
        "    \"\"\"\n",
        "    return nltk.word_tokenize(sentence)\n"
      ],
      "execution_count": null,
      "outputs": []
    },
    {
      "cell_type": "code",
      "metadata": {
        "id": "-WM0NW2TRTph",
        "colab_type": "code",
        "colab": {}
      },
      "source": [
        "def answer_span(context,ans):\n",
        "    \"\"\"\n",
        "    This funtion returns anwer span start index and end index.\n",
        "    \"\"\"\n",
        "    ans_token = tokenize(ans)\n",
        "    con_token = tokenize(context)\n",
        "    ans_len = len(ans_token)\n",
        "    \n",
        "    if ans_len!=0 and ans_token[0] in con_token:\n",
        "    \n",
        "        indices = [i for i, x in enumerate(con_token) if x == ans_token[0]]\n",
        "        if (len(indices)>1):\n",
        "            start = [i for i in indices if (con_token[i:i+ans_len] == ans_token) ]\n",
        "            end = start[0] + ans_len - 1\n",
        "            return start[0],end\n",
        "\n",
        "        else:\n",
        "            start = con_token.index(ans_token[0])\n",
        "            end = start + ans_len - 1\n",
        "            return start,end\n",
        "    else:\n",
        "        return -1,-1"
      ],
      "execution_count": null,
      "outputs": []
    },
    {
      "cell_type": "markdown",
      "metadata": {
        "id": "Q__Uqdj-RXRl",
        "colab_type": "text"
      },
      "source": [
        "Context"
      ]
    },
    {
      "cell_type": "code",
      "metadata": {
        "id": "f5S1wSlDRYll",
        "colab_type": "code",
        "colab": {
          "base_uri": "https://localhost:8080/",
          "height": 50
        },
        "outputId": "d290ddaa-b195-477e-824f-8a737162fd09"
      },
      "source": [
        "#For Training data:\n",
        "preprocessed_context = []\n",
        "# tqdm is for printing the status bar\n",
        "for sentance in tqdm(train[\"context\"].values):\n",
        "    sent = decontracted(sentance)\n",
        "    preprocessed_context.append(sent.strip())\n",
        "    \n",
        "train[\"clean_context\"] = preprocessed_context\n",
        "\n",
        "# for dev data\n",
        "dev_preprocessed_context = []\n",
        "for sentance in tqdm(dev[\"context\"].values):\n",
        "    sent = decontracted(sentance)\n",
        "    dev_preprocessed_context.append(sent.strip())\n",
        "    \n",
        "dev[\"clean_context\"] = dev_preprocessed_context"
      ],
      "execution_count": null,
      "outputs": [
        {
          "output_type": "stream",
          "text": [
            "100%|██████████| 87599/87599 [00:04<00:00, 17605.66it/s]\n",
            "100%|██████████| 10570/10570 [00:00<00:00, 17200.47it/s]\n"
          ],
          "name": "stderr"
        }
      ]
    },
    {
      "cell_type": "markdown",
      "metadata": {
        "id": "VIP8QYBBRf_t",
        "colab_type": "text"
      },
      "source": [
        "Questions"
      ]
    },
    {
      "cell_type": "code",
      "metadata": {
        "id": "gEh_kDr3RiS1",
        "colab_type": "code",
        "colab": {
          "base_uri": "https://localhost:8080/",
          "height": 50
        },
        "outputId": "cc7484c1-1efc-4ae8-be81-cbd0a230eee9"
      },
      "source": [
        "#For Training data:\n",
        "preprocessed_question = []\n",
        "# tqdm is for printing the status bar\n",
        "for sentance in tqdm(train[\"question\"].values):\n",
        "    sent = decontracted(sentance)\n",
        "    preprocessed_question.append(sent.strip())\n",
        "    \n",
        "train[\"clean_question\"] = preprocessed_question\n",
        "\n",
        "# for dev data\n",
        "dev_preprocessed_question = []\n",
        "for sentance in tqdm(dev[\"question\"].values):\n",
        "    sent = decontracted(sentance)\n",
        "    dev_preprocessed_question.append(sent.strip())\n",
        "    \n",
        "dev[\"clean_question\"] = dev_preprocessed_question"
      ],
      "execution_count": null,
      "outputs": [
        {
          "output_type": "stream",
          "text": [
            "100%|██████████| 87599/87599 [00:01<00:00, 74129.63it/s]\n",
            "100%|██████████| 10570/10570 [00:00<00:00, 68576.04it/s]\n"
          ],
          "name": "stderr"
        }
      ]
    },
    {
      "cell_type": "markdown",
      "metadata": {
        "id": "SlF6_k_VRm0g",
        "colab_type": "text"
      },
      "source": [
        "Answer"
      ]
    },
    {
      "cell_type": "code",
      "metadata": {
        "id": "YSFWEO_iRoFY",
        "colab_type": "code",
        "colab": {
          "base_uri": "https://localhost:8080/",
          "height": 50
        },
        "outputId": "162d9990-6ede-4685-de27-5ba7d1bb3b7a"
      },
      "source": [
        "preprocessed_answer = []\n",
        "# tqdm is for printing the status bar\n",
        "for sentance in tqdm(train[\"text\"].values):\n",
        "    sent = decontracted(sentance)\n",
        "    preprocessed_answer.append(sent.strip())\n",
        "    \n",
        "    \n",
        "train[\"clean_answer\"] = preprocessed_answer\n",
        "\n",
        "# for dev data\n",
        "    \n",
        "dev_preprocessed_answer = []\n",
        "# tqdm is for printing the status bar\n",
        "for sentance in tqdm(dev[\"text\"].values):\n",
        "    sent = decontracted(sentance)\n",
        "    dev_preprocessed_answer.append(sent.strip())\n",
        "    \n",
        "dev[\"clean_answer\"] = dev_preprocessed_answer"
      ],
      "execution_count": null,
      "outputs": [
        {
          "output_type": "stream",
          "text": [
            "100%|██████████| 87599/87599 [00:00<00:00, 88700.87it/s]\n",
            "100%|██████████| 10570/10570 [00:00<00:00, 89173.38it/s]\n"
          ],
          "name": "stderr"
        }
      ]
    },
    {
      "cell_type": "code",
      "metadata": {
        "id": "NhP7TjEGRsCI",
        "colab_type": "code",
        "colab": {}
      },
      "source": [
        "train.head()"
      ],
      "execution_count": null,
      "outputs": []
    },
    {
      "cell_type": "code",
      "metadata": {
        "id": "746NdsyMRu7d",
        "colab_type": "code",
        "colab": {}
      },
      "source": [
        "dev.head()"
      ],
      "execution_count": null,
      "outputs": []
    },
    {
      "cell_type": "code",
      "metadata": {
        "id": "msvhlcMqX1KT",
        "colab_type": "code",
        "colab": {}
      },
      "source": [
        ""
      ],
      "execution_count": null,
      "outputs": []
    }
  ]
}