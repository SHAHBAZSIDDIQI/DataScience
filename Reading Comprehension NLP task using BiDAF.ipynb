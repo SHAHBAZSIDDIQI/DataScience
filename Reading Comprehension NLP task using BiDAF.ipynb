{
  "nbformat": 4,
  "nbformat_minor": 0,
  "metadata": {
    "colab": {
      "name": "BiDAF.ipynb",
      "provenance": [],
      "collapsed_sections": [],
      "mount_file_id": "1ys3Sgw6lZ_iB9jk8KXbtNXBGtAdfMr5R",
      "authorship_tag": "ABX9TyMRnBHSq1xvufbIEizg6BRf",
      "include_colab_link": true
    },
    "kernelspec": {
      "name": "python3",
      "display_name": "Python 3"
    },
    "accelerator": "GPU"
  },
  "cells": [
    {
      "cell_type": "markdown",
      "metadata": {
        "id": "view-in-github",
        "colab_type": "text"
      },
      "source": [
        "<a href=\"https://colab.research.google.com/github/SHAHBAZSIDDIQI/DataScience/blob/master/Reading%20Comprehension%20NLP%20task%20using%20BiDAF.ipynb\" target=\"_parent\"><img src=\"https://colab.research.google.com/assets/colab-badge.svg\" alt=\"Open In Colab\"/></a>"
      ]
    },
    {
      "cell_type": "code",
      "metadata": {
        "id": "dWOE1v3WQiBq",
        "colab_type": "code",
        "colab": {}
      },
      "source": [
        "import torch\n",
        "import numpy as np\n",
        "import pandas as pd\n",
        "import pickle\n",
        "import re, os, string, typing, gc, json\n",
        "import spacy\n",
        "from collections import Counter\n",
        "nlp = spacy.load('en')\n",
        "from matplotlib import pyplot as plt\n",
        "from matplotlib.lines import Line2D\n",
        "from torch.utils.tensorboard import SummaryWriter\n",
        "writer = SummaryWriter()"
      ],
      "execution_count": null,
      "outputs": []
    },
    {
      "cell_type": "code",
      "metadata": {
        "id": "20TPGFlQQ0BX",
        "colab_type": "code",
        "colab": {}
      },
      "source": [
        "def load_json(path):\n",
        "    '''\n",
        "    Loads the JSON file of the Squad dataset.\n",
        "    Returns the json object of the dataset.\n",
        "    '''\n",
        "    with open(path, 'r', encoding='utf-8') as f:\n",
        "        data = json.load(f)\n",
        "        \n",
        "    print(\"Length of data: \", len(data['data']))\n",
        "    print(\"Data Keys: \", data['data'][0].keys())\n",
        "    print(\"Title: \", data['data'][0]['title'])\n",
        "    \n",
        "    return data"
      ],
      "execution_count": null,
      "outputs": []
    },
    {
      "cell_type": "code",
      "metadata": {
        "id": "YWxL9_cZQ5pm",
        "colab_type": "code",
        "colab": {}
      },
      "source": [
        "def parse_data(data:dict)->list:\n",
        "    '''\n",
        "    Parses the JSON file of Squad dataset by looping through the\n",
        "    keys and values and returns a list of dictionaries with\n",
        "    context, query and label triplets being the keys of each dict.\n",
        "    '''\n",
        "    data = data['data']\n",
        "    qa_list = []\n",
        "\n",
        "    for paragraphs in data:\n",
        "\n",
        "        for para in paragraphs['paragraphs']:\n",
        "            context = para['context']\n",
        "\n",
        "            for qa in para['qas']:\n",
        "                \n",
        "                id = qa['id']\n",
        "                question = qa['question']\n",
        "                \n",
        "                for ans in qa['answers']:\n",
        "                    answer = ans['text']\n",
        "                    ans_start = ans['answer_start']\n",
        "                    ans_end = ans_start + len(answer)\n",
        "                    \n",
        "                    qa_dict = {}\n",
        "                    qa_dict['id'] = id\n",
        "                    qa_dict['context'] = context\n",
        "                    qa_dict['question'] = question\n",
        "                    qa_dict['label'] = [ans_start, ans_end]\n",
        "\n",
        "                    qa_dict['answer'] = answer\n",
        "                    qa_list.append(qa_dict)    \n",
        "\n",
        "    \n",
        "    return qa_list"
      ],
      "execution_count": null,
      "outputs": []
    },
    {
      "cell_type": "code",
      "metadata": {
        "id": "DE3PooHMRBMR",
        "colab_type": "code",
        "colab": {}
      },
      "source": [
        "def filter_large_examples(df):\n",
        "    '''\n",
        "    Returns ids of examples where context lengths, query lengths and answer lengths are\n",
        "    above a particular threshold. These ids can then be dropped from the dataframe. \n",
        "    This is explicitly mentioned in QANet but can be done for other models as well.\n",
        "    '''\n",
        "    \n",
        "    ctx_lens = []\n",
        "    query_lens = []\n",
        "    ans_lens = []\n",
        "    for index, row in df.iterrows():\n",
        "        ctx_tokens = [w.text for w in nlp(row.context, disable=['parser','ner','tagger'])]\n",
        "        if len(ctx_tokens)>400:\n",
        "            ctx_lens.append(row.name)\n",
        "\n",
        "        query_tokens = [w.text for w in nlp(row.question, disable=['parser','tagger','ner'])]\n",
        "        if len(query_tokens)>50:\n",
        "            query_lens.append(row.name)\n",
        "\n",
        "        ans_tokens = [w.text for w in nlp(row.answer, disable=['parser','tagger','ner'])]\n",
        "        if len(ans_tokens)>30:\n",
        "            ans_lens.append(row.name)\n",
        "\n",
        "        assert row.name == index\n",
        "    \n",
        "    return set(ans_lens + ctx_lens + query_lens)"
      ],
      "execution_count": null,
      "outputs": []
    },
    {
      "cell_type": "code",
      "metadata": {
        "id": "ORC0_oUIRLpr",
        "colab_type": "code",
        "colab": {}
      },
      "source": [
        "def gather_text_for_vocab(dfs:list):\n",
        "    '''\n",
        "    Gathers text from contexts and questions to build a vocabulary.\n",
        "    \n",
        "    :param dfs: list of dataframes of SQUAD dataset.\n",
        "    :returns: list of contexts and questions\n",
        "    '''\n",
        "    \n",
        "    text = []\n",
        "    total = 0\n",
        "    for df in dfs:\n",
        "        unique_contexts = list(df.context.unique())\n",
        "        unique_questions = list(df.question.unique())\n",
        "        total += df.context.nunique() + df.question.nunique()\n",
        "        text.extend(unique_contexts + unique_questions)\n",
        "    \n",
        "    assert len(text) == total\n",
        "    \n",
        "    return text"
      ],
      "execution_count": null,
      "outputs": []
    },
    {
      "cell_type": "code",
      "metadata": {
        "id": "QNKIlsd8RTri",
        "colab_type": "code",
        "colab": {}
      },
      "source": [
        "def build_word_vocab(vocab_text):\n",
        "    '''\n",
        "    Builds a word-level vocabulary from the given text.\n",
        "    \n",
        "    :param list vocab_text: list of contexts and questions\n",
        "    :returns \n",
        "        dict word2idx: word to index mapping of words\n",
        "        dict idx2word: integer to word mapping\n",
        "        list word_vocab: list of words sorted by frequency\n",
        "    '''\n",
        "    \n",
        "    \n",
        "    words = []\n",
        "    for sent in vocab_text:\n",
        "        for word in nlp(sent, disable=['parser','tagger','ner']):\n",
        "            words.append(word.text)\n",
        "\n",
        "    word_counter = Counter(words)\n",
        "    word_vocab = sorted(word_counter, key=word_counter.get, reverse=True)\n",
        "    print(f\"raw-vocab: {len(word_vocab)}\")\n",
        "    #word_vocab = list(set(word_vocab).intersection(set(glove_words)))\n",
        "    #print(f\"glove-vocab: {len(word_vocab)}\")\n",
        "    word_vocab.insert(0, '<unk>')\n",
        "    word_vocab.insert(1, '<pad>')\n",
        "    print(f\"vocab-length: {len(word_vocab)}\")\n",
        "    word2idx = {word:idx for idx, word in enumerate(word_vocab)}\n",
        "    print(f\"word2idx-length: {len(word2idx)}\")\n",
        "    idx2word = {v:k for k,v in word2idx.items()}\n",
        "    \n",
        "    \n",
        "    return word2idx, idx2word, word_vocab"
      ],
      "execution_count": null,
      "outputs": []
    },
    {
      "cell_type": "code",
      "metadata": {
        "id": "Io-BgJUGRjx7",
        "colab_type": "code",
        "colab": {}
      },
      "source": [
        "def build_char_vocab(vocab_text):\n",
        "    '''\n",
        "    Builds a character-level vocabulary from the given text.\n",
        "    \n",
        "    :param list vocab_text: list of contexts and questions\n",
        "    :returns \n",
        "        dict char2idx: character to index mapping of words\n",
        "        list char_vocab: list of characters sorted by frequency\n",
        "    '''\n",
        "    \n",
        "    chars = []\n",
        "    for sent in vocab_text:\n",
        "        for ch in sent:\n",
        "            chars.append(ch)\n",
        "\n",
        "    char_counter = Counter(chars)\n",
        "    char_vocab = sorted(char_counter, key=char_counter.get, reverse=True)\n",
        "    print(f\"raw-char-vocab: {len(char_vocab)}\")\n",
        "    high_freq_char = [char for char, count in char_counter.items() if count>=20]\n",
        "    char_vocab = list(set(char_vocab).intersection(set(high_freq_char)))\n",
        "    print(f\"char-vocab-intersect: {len(char_vocab)}\")\n",
        "    char_vocab.insert(0,'<unk>')\n",
        "    char_vocab.insert(1,'<pad>')\n",
        "    char2idx = {char:idx for idx, char in enumerate(char_vocab)}\n",
        "    print(f\"char2idx-length: {len(char2idx)}\")\n",
        "    \n",
        "    return char2idx, char_vocab"
      ],
      "execution_count": null,
      "outputs": []
    },
    {
      "cell_type": "code",
      "metadata": {
        "id": "kipT1NofRwML",
        "colab_type": "code",
        "colab": {}
      },
      "source": [
        "def context_to_ids(text, word2idx):\n",
        "    '''\n",
        "    Converts context text to their respective ids by mapping each word\n",
        "    using word2idx. Input text is tokenized using spacy tokenizer first.\n",
        "    \n",
        "    :param str text: context text to be converted\n",
        "    :returns list context_ids: list of mapped ids\n",
        "    \n",
        "    :raises assertion error: sanity check\n",
        "    \n",
        "    '''\n",
        "\n",
        "    context_tokens = [w.text for w in nlp(text, disable=['parser','tagger','ner'])]\n",
        "    context_ids = [word2idx[word] for word in context_tokens]\n",
        "    \n",
        "    assert len(context_ids) == len(context_tokens)\n",
        "    return context_ids\n",
        "    \n",
        "def question_to_ids(text, word2idx):\n",
        "    '''\n",
        "    Converts question text to their respective ids by mapping each word\n",
        "    using word2idx. Input text is tokenized using spacy tokenizer first.\n",
        "    \n",
        "    :param str text: question text to be converted\n",
        "    :returns list context_ids: list of mapped ids\n",
        "    \n",
        "    :raises assertion error: sanity check\n",
        "    \n",
        "    '''\n",
        "\n",
        "    question_tokens = [w.text for w in nlp(text, disable=['parser','tagger','ner'])]\n",
        "    question_ids = [word2idx[word] for word in question_tokens]\n",
        "    \n",
        "    assert len(question_ids) == len(question_tokens)\n",
        "    return question_ids"
      ],
      "execution_count": null,
      "outputs": []
    },
    {
      "cell_type": "code",
      "metadata": {
        "id": "yTupdzDdR5op",
        "colab_type": "code",
        "colab": {}
      },
      "source": [
        "def test_indices(df, idx2word):\n",
        "    '''\n",
        "    Performs the tests mentioned above. This method also gets the start and end of the answers\n",
        "    with respect to the context_ids for each example.\n",
        "    \n",
        "    :param dataframe df: SQUAD df\n",
        "    :returns\n",
        "        list start_value_error: example idx where the start idx is not found in the start spans\n",
        "                                of the text\n",
        "        list end_value_error: example idx where the end idx is not found in the end spans\n",
        "                              of the text\n",
        "        list assert_error: examples that fail assertion errors. A majority are due to the above errors\n",
        "        \n",
        "    '''\n",
        "\n",
        "    start_value_error = []\n",
        "    end_value_error = []\n",
        "    assert_error = []\n",
        "    for index, row in df.iterrows():\n",
        "\n",
        "        answer_tokens = [w.text for w in nlp(row['answer'], disable=['parser','tagger','ner'])]\n",
        "\n",
        "        start_token = answer_tokens[0]\n",
        "        end_token = answer_tokens[-1]\n",
        "        \n",
        "        context_span  = [(word.idx, word.idx + len(word.text)) \n",
        "                         for word in nlp(row['context'], disable=['parser','tagger','ner'])]\n",
        "\n",
        "        starts, ends = zip(*context_span)\n",
        "\n",
        "        answer_start, answer_end = row['label']\n",
        "\n",
        "        try:\n",
        "            start_idx = starts.index(answer_start)\n",
        "        except:\n",
        "            start_value_error.append(index)\n",
        "        try:\n",
        "            end_idx  = ends.index(answer_end)\n",
        "        except:\n",
        "            end_value_error.append(index)\n",
        "\n",
        "        try:\n",
        "            assert idx2word[row['context_ids'][start_idx]] == answer_tokens[0]\n",
        "            assert idx2word[row['context_ids'][end_idx]] == answer_tokens[-1]\n",
        "        except:\n",
        "            assert_error.append(index)\n",
        "\n",
        "\n",
        "    return start_value_error, end_value_error, assert_error"
      ],
      "execution_count": null,
      "outputs": []
    },
    {
      "cell_type": "code",
      "metadata": {
        "id": "fwBPGEnSSX3B",
        "colab_type": "code",
        "colab": {}
      },
      "source": [
        "def get_error_indices(df, idx2word):\n",
        "    '''\n",
        "    Gets error indices from the method above and returns a \n",
        "    set of those indices.\n",
        "    '''\n",
        "    \n",
        "    start_value_error, end_value_error, assert_error = test_indices(df,idx2word)\n",
        "    err_idx = start_value_error + end_value_error + assert_error\n",
        "    err_idx = set(err_idx)\n",
        "    print(f\"Error indices: {len(err_idx)}\")\n",
        "    \n",
        "    return err_idx\n",
        "  \n",
        "def index_answer(row, idx2word):\n",
        "    '''\n",
        "    Takes in a row of the dataframe or one training example and\n",
        "    returns a tuple of start and end positions of answer by calculating \n",
        "    spans.\n",
        "    '''\n",
        "    \n",
        "    context_span = [(word.idx, word.idx + len(word.text)) for word in nlp(row.context, disable=['parser','tagger','ner'])]\n",
        "    starts, ends = zip(*context_span)\n",
        "    \n",
        "    answer_start, answer_end = row.label\n",
        "    start_idx = starts.index(answer_start)\n",
        " \n",
        "    end_idx  = ends.index(answer_end)\n",
        "    \n",
        "    ans_toks = [w.text for w in nlp(row.answer,disable=['parser','tagger','ner'])]\n",
        "    ans_start = ans_toks[0]\n",
        "    ans_end = ans_toks[-1]\n",
        "    assert idx2word[row.context_ids[start_idx]] == ans_start\n",
        "    assert idx2word[row.context_ids[end_idx]] == ans_end\n",
        "    \n",
        "    return [start_idx, end_idx]"
      ],
      "execution_count": null,
      "outputs": []
    },
    {
      "cell_type": "code",
      "metadata": {
        "id": "q3gd4JBrSkeX",
        "colab_type": "code",
        "colab": {}
      },
      "source": [
        "from torch import nn\n",
        "import torch\n",
        "import numpy as np\n",
        "import pandas as pd\n",
        "import pickle, time\n",
        "import re, os, string, typing, gc, json\n",
        "import torch.nn.functional as F\n",
        "import spacy\n",
        "from sklearn.model_selection import train_test_split\n",
        "from collections import Counter\n",
        "nlp = spacy.load('en')\n",
        "#from preprocess import *\n",
        "%load_ext autoreload\n",
        "%autoreload 2"
      ],
      "execution_count": null,
      "outputs": []
    },
    {
      "cell_type": "code",
      "metadata": {
        "id": "PWXvF4-OTIwi",
        "colab_type": "code",
        "colab": {
          "base_uri": "https://localhost:8080/",
          "height": 168
        },
        "outputId": "c8a05523-fa53-470e-a2b4-b527252bef6a"
      },
      "source": [
        "# load dataset json files\n",
        "\n",
        "train_data = load_json('/content/drive/My Drive/Colab Notebooks/SQUAD/data/train-v1.1.json')\n",
        "valid_data = load_json('/content/drive/My Drive/Colab Notebooks/SQUAD/data/dev-v1.1.json')\n",
        "\n",
        "# parse the json structure to return the data as a list of dictionaries\n",
        "\n",
        "train_list = parse_data(train_data)\n",
        "valid_list = parse_data(valid_data)\n",
        "print('--------------------------')\n",
        "\n",
        "print('Train list len: ',len(train_list))\n",
        "print('Valid list len: ',len(valid_list))\n",
        "\n",
        "# converting the lists into dataframes\n",
        "\n",
        "train_df = pd.DataFrame(train_list)\n",
        "valid_df = pd.DataFrame(valid_list)"
      ],
      "execution_count": null,
      "outputs": [
        {
          "output_type": "stream",
          "text": [
            "Length of data:  442\n",
            "Data Keys:  dict_keys(['title', 'paragraphs'])\n",
            "Title:  University_of_Notre_Dame\n",
            "Length of data:  48\n",
            "Data Keys:  dict_keys(['title', 'paragraphs'])\n",
            "Title:  Super_Bowl_50\n",
            "--------------------------\n",
            "Train list len:  87599\n",
            "Valid list len:  34726\n"
          ],
          "name": "stdout"
        }
      ]
    },
    {
      "cell_type": "code",
      "metadata": {
        "id": "BsAIQiWsTXjd",
        "colab_type": "code",
        "colab": {}
      },
      "source": [
        "def preprocess_df(df):\n",
        "    \n",
        "    def to_lower(text):\n",
        "        return text.lower()\n",
        "\n",
        "    df.context = df.context.apply(to_lower)\n",
        "    df.question = df.question.apply(to_lower)\n",
        "    df.answer = df.answer.apply(to_lower)"
      ],
      "execution_count": null,
      "outputs": []
    },
    {
      "cell_type": "code",
      "metadata": {
        "id": "7TaDxJCgTfR_",
        "colab_type": "code",
        "colab": {}
      },
      "source": [
        "preprocess_df(train_df)\n",
        "preprocess_df(valid_df)"
      ],
      "execution_count": null,
      "outputs": []
    },
    {
      "cell_type": "code",
      "metadata": {
        "id": "dRfI5GayT_gs",
        "colab_type": "code",
        "colab": {
          "base_uri": "https://localhost:8080/",
          "height": 67
        },
        "outputId": "2dbca3cd-378b-4024-ac35-3f41e743b2da"
      },
      "source": [
        "# gather text to build vocabularies\n",
        "\n",
        "%time vocab_text = gather_text_for_vocab([train_df, valid_df])\n",
        "print(\"Number of sentences in dataset: \", len(vocab_text))"
      ],
      "execution_count": null,
      "outputs": [
        {
          "output_type": "stream",
          "text": [
            "CPU times: user 437 ms, sys: 13.5 ms, total: 451 ms\n",
            "Wall time: 451 ms\n",
            "Number of sentences in dataset:  118822\n"
          ],
          "name": "stdout"
        }
      ]
    },
    {
      "cell_type": "code",
      "metadata": {
        "id": "U2P_ZQrVUF0S",
        "colab_type": "code",
        "colab": {
          "base_uri": "https://localhost:8080/",
          "height": 202
        },
        "outputId": "4dcbbd60-17a9-4813-d2b8-b01ce5c8c913"
      },
      "source": [
        "# build word and character-level vocabularies\n",
        "\n",
        "%time word2idx, idx2word, word_vocab = build_word_vocab(vocab_text)\n",
        "print(\"----------------------------------\")\n",
        "%time char2idx, char_vocab = build_char_vocab(vocab_text)"
      ],
      "execution_count": null,
      "outputs": [
        {
          "output_type": "stream",
          "text": [
            "raw-vocab: 97380\n",
            "vocab-length: 97382\n",
            "word2idx-length: 97382\n",
            "CPU times: user 31.9 s, sys: 306 ms, total: 32.2 s\n",
            "Wall time: 32.3 s\n",
            "----------------------------------\n",
            "raw-char-vocab: 1316\n",
            "char-vocab-intersect: 202\n",
            "char2idx-length: 204\n",
            "CPU times: user 2.54 s, sys: 161 ms, total: 2.7 s\n",
            "Wall time: 2.7 s\n"
          ],
          "name": "stdout"
        }
      ]
    },
    {
      "cell_type": "code",
      "metadata": {
        "id": "CZVSS0r1UL_A",
        "colab_type": "code",
        "colab": {
          "base_uri": "https://localhost:8080/",
          "height": 151
        },
        "outputId": "6a4be9ce-55b1-4a94-8e1f-2dff3786232c"
      },
      "source": [
        "# numericalize context and questions for training and validation set\n",
        "\n",
        "%time train_df['context_ids'] = train_df.context.apply(context_to_ids, word2idx=word2idx)\n",
        "%time valid_df['context_ids'] = valid_df.context.apply(context_to_ids, word2idx=word2idx)\n",
        "%time train_df['question_ids'] = train_df.question.apply(question_to_ids, word2idx=word2idx)\n",
        "%time valid_df['question_ids'] = valid_df.question.apply(question_to_ids, word2idx=word2idx)"
      ],
      "execution_count": null,
      "outputs": [
        {
          "output_type": "stream",
          "text": [
            "CPU times: user 1min 27s, sys: 15.4 ms, total: 1min 27s\n",
            "Wall time: 1min 27s\n",
            "CPU times: user 37.1 s, sys: 4.73 ms, total: 37.1 s\n",
            "Wall time: 37.1 s\n",
            "CPU times: user 8.22 s, sys: 3.94 ms, total: 8.22 s\n",
            "Wall time: 8.24 s\n",
            "CPU times: user 3.57 s, sys: 2.01 ms, total: 3.58 s\n",
            "Wall time: 3.58 s\n"
          ],
          "name": "stdout"
        }
      ]
    },
    {
      "cell_type": "code",
      "metadata": {
        "id": "jxYiutYulUgp",
        "colab_type": "code",
        "colab": {
          "base_uri": "https://localhost:8080/",
          "height": 50
        },
        "outputId": "b8bb5dfa-90cd-4edc-9f81-af5f9c394fff"
      },
      "source": [
        "# get indices with tokenization errors and drop those indices \n",
        "\n",
        "train_err = get_error_indices(train_df, idx2word)\n",
        "valid_err = get_error_indices(valid_df, idx2word)\n",
        "\n",
        "train_df.drop(train_err, inplace=True)\n",
        "valid_df.drop(valid_err, inplace=True)"
      ],
      "execution_count": null,
      "outputs": [
        {
          "output_type": "stream",
          "text": [
            "Error indices: 991\n",
            "Error indices: 424\n"
          ],
          "name": "stdout"
        }
      ]
    },
    {
      "cell_type": "code",
      "metadata": {
        "id": "p00KKrFjlUld",
        "colab_type": "code",
        "colab": {}
      },
      "source": [
        "# get start and end positions of answers from the context\n",
        "# this is basically the label for training QA models\n",
        "\n",
        "train_label_idx = train_df.apply(index_answer, axis=1, idx2word=idx2word)\n",
        "valid_label_idx = valid_df.apply(index_answer, axis=1, idx2word=idx2word)\n",
        "\n",
        "train_df['label_idx'] = train_label_idx\n",
        "valid_df['label_idx'] = valid_label_idx"
      ],
      "execution_count": null,
      "outputs": []
    },
    {
      "cell_type": "code",
      "metadata": {
        "id": "AbB0OB7TlUro",
        "colab_type": "code",
        "colab": {}
      },
      "source": [
        "# dump to pickle files\n",
        "\n",
        "train_df.to_pickle('/content/drive/My Drive/Colab Notebooks/SQUAD/data/bidaftrain.pkl')\n",
        "valid_df.to_pickle('/content/drive/My Drive/Colab Notebooks/SQUAD/data/bidafvalid.pkl')\n",
        "\n",
        "with open('/content/drive/My Drive/Colab Notebooks/SQUAD/data/bidafw2id.pickle','wb') as handle:\n",
        "    pickle.dump(word2idx, handle)\n",
        "\n",
        "with open('/content/drive/My Drive/Colab Notebooks/SQUAD/data/bidafc2id.pickle','wb') as handle:\n",
        "    pickle.dump(char2idx, handle)"
      ],
      "execution_count": null,
      "outputs": []
    },
    {
      "cell_type": "code",
      "metadata": {
        "id": "UeNkPJj6lUxB",
        "colab_type": "code",
        "colab": {}
      },
      "source": [
        "#load data from pickle files\n",
        "\n",
        "\n",
        "train_df = pd.read_pickle('/content/drive/My Drive/Colab Notebooks/SQUAD/data/bidaftrain.pkl')\n",
        "valid_df = pd.read_pickle('/content/drive/My Drive/Colab Notebooks/SQUAD/data/bidafvalid.pkl')\n",
        "\n",
        "with open('/content/drive/My Drive/Colab Notebooks/SQUAD/data/bidafw2id.pickle','rb') as handle:\n",
        "    word2idx = pickle.load(handle)\n",
        "with open('/content/drive/My Drive/Colab Notebooks/SQUAD/data/bidafc2id.pickle','rb') as handle:\n",
        "    char2idx = pickle.load(handle)\n",
        "\n",
        "idx2word = {v:k for k,v in word2idx.items()}"
      ],
      "execution_count": null,
      "outputs": []
    },
    {
      "cell_type": "markdown",
      "metadata": {
        "id": "ZUuc4x4NvAkq",
        "colab_type": "text"
      },
      "source": [
        "## Dataset\n"
      ]
    },
    {
      "cell_type": "code",
      "metadata": {
        "id": "SwDdJ29tlU3D",
        "colab_type": "code",
        "colab": {}
      },
      "source": [
        "class SquadDataset:\n",
        "    '''\n",
        "    - Creates batches dynamically by padding to the length of largest example\n",
        "      in a given batch.\n",
        "    - Calulates character vectors for contexts and question.\n",
        "    - Returns tensors for training.\n",
        "    '''\n",
        "    \n",
        "    def __init__(self, data, batch_size):\n",
        "        \n",
        "        self.batch_size = batch_size\n",
        "        data = [data[i:i+self.batch_size] for i in range(0, len(data), self.batch_size)]\n",
        "        self.data = data\n",
        "        \n",
        "        \n",
        "    def __len__(self):\n",
        "        return len(self.data)\n",
        "    \n",
        "    def make_char_vector(self, max_sent_len, max_word_len, sentence):\n",
        "        \n",
        "        char_vec = torch.ones(max_sent_len, max_word_len).type(torch.LongTensor)\n",
        "        \n",
        "        for i, word in enumerate(nlp(sentence, disable=['parser','tagger','ner'])):\n",
        "            for j, ch in enumerate(word.text):\n",
        "                char_vec[i][j] = char2idx.get(ch, 0)\n",
        "        \n",
        "        return char_vec    \n",
        "    \n",
        "    def get_span(self, text):\n",
        "        \n",
        "        text = nlp(text, disable=['parser','tagger','ner'])\n",
        "        span = [(w.idx, w.idx+len(w.text)) for w in text]\n",
        "\n",
        "        return span\n",
        "    \n",
        "    def __iter__(self):\n",
        "        '''\n",
        "        Creates batches of data and yields them.\n",
        "        \n",
        "        Each yield comprises of:\n",
        "        :padded_context: padded tensor of contexts for each batch \n",
        "        :padded_question: padded tensor of questions for each batch \n",
        "        :char_ctx & ques_ctx: character-level ids for context and question\n",
        "        :label: start and end index wrt context_ids\n",
        "        :context_text,answer_text: used while validation to calculate metrics\n",
        "        :ids: question_ids for evaluation\n",
        "        \n",
        "        '''\n",
        "        \n",
        "        for batch in self.data:\n",
        "            \n",
        "            spans = []\n",
        "            ctx_text = []\n",
        "            answer_text = []\n",
        "            \n",
        "            for ctx in batch.context:\n",
        "                ctx_text.append(ctx)\n",
        "                spans.append(self.get_span(ctx))\n",
        "            \n",
        "            for ans in batch.answer:\n",
        "                answer_text.append(ans)\n",
        "                \n",
        "            #fill in the padding of 1 for the context given the largest length of the context\n",
        "            max_context_len = max([len(ctx) for ctx in batch.context_ids])\n",
        "            padded_context = torch.LongTensor(len(batch), max_context_len).fill_(1)\n",
        "            \n",
        "            for i, ctx in enumerate(batch.context_ids):\n",
        "                padded_context[i, :len(ctx)] = torch.LongTensor(ctx)\n",
        "                \n",
        "            max_word_ctx = 0\n",
        "            for context in batch.context:\n",
        "                for word in nlp(context, disable=['parser','tagger','ner']):\n",
        "                    if len(word.text) > max_word_ctx:\n",
        "                        max_word_ctx = len(word.text)\n",
        "            \n",
        "            char_ctx = torch.ones(len(batch), max_context_len, max_word_ctx).type(torch.LongTensor)\n",
        "            for i, context in enumerate(batch.context):\n",
        "                char_ctx[i] = self.make_char_vector(max_context_len, max_word_ctx, context)\n",
        "            \n",
        "            max_question_len = max([len(ques) for ques in batch.question_ids])\n",
        "            padded_question = torch.LongTensor(len(batch), max_question_len).fill_(1)\n",
        "            \n",
        "            for i, ques in enumerate(batch.question_ids):\n",
        "                padded_question[i, :len(ques)] = torch.LongTensor(ques)\n",
        "                \n",
        "            max_word_ques = 0\n",
        "            for question in batch.question:\n",
        "                for word in nlp(question, disable=['parser','tagger','ner']):\n",
        "                    if len(word.text) > max_word_ques:\n",
        "                        max_word_ques = len(word.text)\n",
        "            \n",
        "            char_ques = torch.ones(len(batch), max_question_len, max_word_ques).type(torch.LongTensor)\n",
        "            for i, question in enumerate(batch.question):\n",
        "                char_ques[i] = self.make_char_vector(max_question_len, max_word_ques, question)\n",
        "            \n",
        "            ids = list(batch.id)  \n",
        "            label = torch.LongTensor(list(batch.label_idx))\n",
        "            \n",
        "            yield (padded_context, padded_question, char_ctx, char_ques, label, ctx_text, answer_text, ids)"
      ],
      "execution_count": null,
      "outputs": []
    },
    {
      "cell_type": "code",
      "metadata": {
        "id": "Kb-pGpR5oIfq",
        "colab_type": "code",
        "colab": {
          "base_uri": "https://localhost:8080/",
          "height": 34
        },
        "outputId": "2543d507-cae6-4e32-b393-f5c61a4a88b2"
      },
      "source": [
        "#Added by shahbaz changed the valid_df to 1500 and avoided the error\n",
        "valid_dfB,valid_dfA = valid_df[2500:],valid_df[:1500]\n",
        "frames = [valid_dfA,valid_dfB]\n",
        "valid_df = pd.concat(frames,axis = 0, sort= False)\n",
        "valid_df.shape"
      ],
      "execution_count": null,
      "outputs": [
        {
          "output_type": "execute_result",
          "data": {
            "text/plain": [
              "(33302, 8)"
            ]
          },
          "metadata": {
            "tags": []
          },
          "execution_count": 23
        }
      ]
    },
    {
      "cell_type": "code",
      "metadata": {
        "id": "z7S9PCQLvFlE",
        "colab_type": "code",
        "colab": {}
      },
      "source": [
        "#Batch size is 16 and dataset respectively train and test.\n",
        "train_dataset = SquadDataset(train_df, 16)\n",
        "valid_dataset = SquadDataset(valid_df, 16)"
      ],
      "execution_count": null,
      "outputs": []
    },
    {
      "cell_type": "code",
      "metadata": {
        "id": "xaWzWRblkYLZ",
        "colab_type": "code",
        "colab": {
          "base_uri": "https://localhost:8080/",
          "height": 34
        },
        "outputId": "218dbd98-6361-4179-874c-799ffd82133d"
      },
      "source": [
        "train_df.shape"
      ],
      "execution_count": null,
      "outputs": [
        {
          "output_type": "execute_result",
          "data": {
            "text/plain": [
              "(86608, 8)"
            ]
          },
          "metadata": {
            "tags": []
          },
          "execution_count": 25
        }
      ]
    },
    {
      "cell_type": "code",
      "metadata": {
        "id": "YywBCGvIvFol",
        "colab_type": "code",
        "colab": {}
      },
      "source": [
        "a = next(iter(train_dataset))"
      ],
      "execution_count": null,
      "outputs": []
    },
    {
      "cell_type": "markdown",
      "metadata": {
        "id": "rOmmcvAN3D8v",
        "colab_type": "text"
      },
      "source": [
        "BIDAF model"
      ]
    },
    {
      "cell_type": "code",
      "metadata": {
        "id": "vFJ33MjzvFsR",
        "colab_type": "code",
        "colab": {}
      },
      "source": [
        "def get_glove_dict():\n",
        "    '''\n",
        "    Parses the glove word vectors text file and returns a dictionary with the words as\n",
        "    keys and their respective pretrained word vectors as values.\n",
        "\n",
        "    '''\n",
        "    glove_dict = {}\n",
        "    with open(\"/content/drive/My Drive/Colab Notebooks/SQUAD/data/glove.6B.100d.txt\", \"r\", encoding=\"utf-8\") as f:\n",
        "        for line in f:\n",
        "            values = line.split()\n",
        "            word = values[0]\n",
        "            vector = np.asarray(values[1:], \"float32\")\n",
        "            glove_dict[word] = vector\n",
        "            \n",
        "    f.close()\n",
        "    \n",
        "    return glove_dict"
      ],
      "execution_count": null,
      "outputs": []
    },
    {
      "cell_type": "code",
      "metadata": {
        "id": "YXQ6xB2vvFxe",
        "colab_type": "code",
        "colab": {}
      },
      "source": [
        "glove_dict = get_glove_dict()"
      ],
      "execution_count": null,
      "outputs": []
    },
    {
      "cell_type": "code",
      "metadata": {
        "id": "KG6HQUMnvF1H",
        "colab_type": "code",
        "colab": {}
      },
      "source": [
        "def create_weights_matrix(glove_dict):\n",
        "    '''\n",
        "    Creates a weight matrix of the words that are common in the GloVe vocab and\n",
        "    the dataset's vocab. Initializes OOV words with a zero vector.\n",
        "    '''\n",
        "    weights_matrix = np.zeros((len(word_vocab), 100))\n",
        "    words_found = 0\n",
        "    for i, word in enumerate(word_vocab):\n",
        "        try:\n",
        "            weights_matrix[i] = glove_dict[word]\n",
        "            words_found += 1\n",
        "        except:\n",
        "            pass\n",
        "        \n",
        "    return weights_matrix, words_found"
      ],
      "execution_count": null,
      "outputs": []
    },
    {
      "cell_type": "code",
      "metadata": {
        "id": "2pJBIgoRvFvZ",
        "colab_type": "code",
        "colab": {
          "base_uri": "https://localhost:8080/",
          "height": 34
        },
        "outputId": "bd068c6c-f928-4d0a-9fbd-a06210dbfbf4"
      },
      "source": [
        "weights_matrix, words_found = create_weights_matrix(glove_dict)\n",
        "print(\"Words found in the GloVe vocab: \" ,words_found)"
      ],
      "execution_count": null,
      "outputs": [
        {
          "output_type": "stream",
          "text": [
            "Words found in the GloVe vocab:  73018\n"
          ],
          "name": "stdout"
        }
      ]
    },
    {
      "cell_type": "code",
      "metadata": {
        "id": "-TfrQpuolU0V",
        "colab_type": "code",
        "colab": {}
      },
      "source": [
        "# dump the weights to load in future\n",
        "\n",
        "np.save('/content/drive/My Drive/Colab Notebooks/SQUAD/data/bidafglove_tv.npy', weights_matrix)"
      ],
      "execution_count": null,
      "outputs": []
    },
    {
      "cell_type": "markdown",
      "metadata": {
        "id": "sTEDnUc53qw_",
        "colab_type": "text"
      },
      "source": [
        "Character Embedding"
      ]
    },
    {
      "cell_type": "code",
      "metadata": {
        "id": "fbhKzOzRlUvJ",
        "colab_type": "code",
        "colab": {}
      },
      "source": [
        "class CharacterEmbeddingLayer(nn.Module):\n",
        "    \n",
        "    def __init__(self, char_vocab_dim, char_emb_dim, num_output_channels, kernel_size):\n",
        "        \n",
        "        super().__init__()\n",
        "        \n",
        "        self.char_emb_dim = char_emb_dim\n",
        "        \n",
        "        self.char_embedding = nn.Embedding(char_vocab_dim, char_emb_dim, padding_idx=1)\n",
        "        \n",
        "        self.char_convolution = nn.Conv2d(in_channels=1, out_channels=100, kernel_size=kernel_size)\n",
        "        \n",
        "        self.relu = nn.ReLU()\n",
        "    \n",
        "        self.dropout = nn.Dropout(0.2)\n",
        "        \n",
        "    def forward(self, x):\n",
        "        # x = [bs, seq_len, word_len]\n",
        "        # returns : [batch_size, seq_len, num_output_channels]\n",
        "        # the output can be thought of as another feature embedding of dim 100.\n",
        "        \n",
        "        batch_size = x.shape[0]\n",
        "        \n",
        "        x = self.dropout(self.char_embedding(x))\n",
        "        # x = [bs, seq_len, word_len, char_emb_dim]\n",
        "        \n",
        "        # following three operations manipulate x in such a way that\n",
        "        # it closely resembles an image. this format is important before \n",
        "        # we perform convolution on the character embeddings.\n",
        "        \n",
        "        x = x.permute(0,1,3,2)\n",
        "        # x = [bs, seq_len, char_emb_dim, word_len]\n",
        "        \n",
        "        x = x.view(-1, self.char_emb_dim, x.shape[3])\n",
        "        # x = [bs*seq_len, char_emb_dim, word_len]\n",
        "        \n",
        "        x = x.unsqueeze(1)\n",
        "        # x = [bs*seq_len, 1, char_emb_dim, word_len]\n",
        "        \n",
        "        # x is now in a format that can be accepted by a conv layer. \n",
        "        # think of the tensor above in terms of an image of dimension\n",
        "        # (N, C_in, H_in, W_in).\n",
        "        \n",
        "        x = self.relu(self.char_convolution(x))\n",
        "        # x = [bs*seq_len, out_channels, H_out, W_out]\n",
        "        \n",
        "        x = x.squeeze()\n",
        "        # x = [bs*seq_len, out_channels, W_out]\n",
        "                \n",
        "        x = F.max_pool1d(x, x.shape[2]).squeeze()\n",
        "        # x = [bs*seq_len, out_channels, 1] => [bs*seq_len, out_channels]\n",
        "        \n",
        "        x = x.view(batch_size, -1, x.shape[-1])\n",
        "        # x = [bs, seq_len, out_channels]\n",
        "        # x = [bs, seq_len, features] = [bs, seq_len, 100]\n",
        "        \n",
        "        \n",
        "        return x"
      ],
      "execution_count": null,
      "outputs": []
    },
    {
      "cell_type": "markdown",
      "metadata": {
        "id": "m5sdPMzABWMc",
        "colab_type": "text"
      },
      "source": [
        "HighWay Network"
      ]
    },
    {
      "cell_type": "code",
      "metadata": {
        "id": "v6Yq114flUod",
        "colab_type": "code",
        "colab": {}
      },
      "source": [
        "class HighwayNetwork(nn.Module):\n",
        "    \n",
        "    def __init__(self, input_dim, num_layers=2):\n",
        "        \n",
        "        super().__init__()\n",
        "        \n",
        "        self.num_layers = num_layers\n",
        "        \n",
        "        self.flow_layer = nn.ModuleList([nn.Linear(input_dim, input_dim) for _ in range(num_layers)])\n",
        "        self.gate_layer = nn.ModuleList([nn.Linear(input_dim, input_dim) for _ in range(num_layers)])\n",
        "        \n",
        "    def forward(self, x):\n",
        "        \n",
        "        for i in range(self.num_layers):\n",
        "            \n",
        "            flow_value = F.relu(self.flow_layer[i](x))\n",
        "            gate_value = torch.sigmoid(self.gate_layer[i](x))\n",
        "            \n",
        "            x = gate_value * flow_value + (1-gate_value) * x\n",
        "        \n",
        "        return x"
      ],
      "execution_count": null,
      "outputs": []
    },
    {
      "cell_type": "markdown",
      "metadata": {
        "id": "l5FpvHSBBiyS",
        "colab_type": "text"
      },
      "source": [
        "Contextual Embedding"
      ]
    },
    {
      "cell_type": "code",
      "metadata": {
        "id": "mO6n6rsxlUjf",
        "colab_type": "code",
        "colab": {}
      },
      "source": [
        "class ContextualEmbeddingLayer(nn.Module):\n",
        "    \n",
        "    def __init__(self, input_dim, hidden_dim):\n",
        "        \n",
        "        super().__init__()\n",
        "        \n",
        "        self.lstm = nn.LSTM(input_dim, hidden_dim, batch_first=True, bidirectional=True)\n",
        "        \n",
        "        self.highway_net = HighwayNetwork(input_dim)\n",
        "        \n",
        "    def forward(self, x):\n",
        "        # x = [bs, seq_len, input_dim] = [bs, seq_len, emb_dim*2]\n",
        "        # the input is the concatenation of word and characeter embeddings\n",
        "        # for the sequence.\n",
        "        \n",
        "        highway_out = self.highway_net(x)\n",
        "        # highway_out = [bs, seq_len, input_dim]\n",
        "        \n",
        "        outputs, _ = self.lstm(highway_out)\n",
        "        # outputs = [bs, seq_len, emb_dim*2]\n",
        "        \n",
        "        return outputs"
      ],
      "execution_count": null,
      "outputs": []
    },
    {
      "cell_type": "markdown",
      "metadata": {
        "id": "EpZlU0EpBrdF",
        "colab_type": "text"
      },
      "source": [
        "Attention Flow layer"
      ]
    },
    {
      "cell_type": "code",
      "metadata": {
        "id": "B0EWMVg8Buwe",
        "colab_type": "code",
        "colab": {}
      },
      "source": [
        "class BiDAF(nn.Module):\n",
        "    \n",
        "    def __init__(self, char_vocab_dim, emb_dim, char_emb_dim, num_output_channels, \n",
        "                 kernel_size, ctx_hidden_dim, device):\n",
        "        '''\n",
        "        char_vocab_dim = len(char2idx)\n",
        "        emb_dim = 100\n",
        "        char_emb_dim = 8\n",
        "        num_output_chanels = 100\n",
        "        kernel_size = (8,5)\n",
        "        ctx_hidden_dim = 100\n",
        "        '''\n",
        "        super().__init__()\n",
        "        \n",
        "        self.device = device\n",
        "        \n",
        "        self.word_embedding = self.get_glove_embedding()\n",
        "        \n",
        "        self.character_embedding = CharacterEmbeddingLayer(char_vocab_dim, char_emb_dim, \n",
        "                                                      num_output_channels, kernel_size)\n",
        "        \n",
        "        self.contextual_embedding = ContextualEmbeddingLayer(emb_dim*2, ctx_hidden_dim)\n",
        "        \n",
        "        self.dropout = nn.Dropout()\n",
        "        \n",
        "        self.similarity_weight = nn.Linear(emb_dim*6, 1, bias=False)\n",
        "        \n",
        "        self.modeling_lstm = nn.LSTM(emb_dim*8, emb_dim, bidirectional=True, num_layers=2, batch_first=True, dropout=0.2)\n",
        "        \n",
        "        self.output_start = nn.Linear(emb_dim*10, 1, bias=False)\n",
        "        \n",
        "        self.output_end = nn.Linear(emb_dim*10, 1, bias=False)\n",
        "        \n",
        "        self.end_lstm = nn.LSTM(emb_dim*2, emb_dim, bidirectional=True, batch_first=True)\n",
        "\n",
        "    def get_glove_embedding(self):\n",
        "        \n",
        "        weights_matrix = np.load('/content/drive/My Drive/Colab Notebooks/SQUAD/data/bidafglove_tv.npy')\n",
        "        num_embeddings, embedding_dim = weights_matrix.shape\n",
        "        embedding = nn.Embedding.from_pretrained(torch.FloatTensor(weights_matrix).to(self.device),freeze=True)\n",
        "\n",
        "        return embedding\n",
        "        \n",
        "    def forward(self, ctx, ques, char_ctx, char_ques):\n",
        "        # ctx = [bs, ctx_len]\n",
        "        # ques = [bs, ques_len]\n",
        "        # char_ctx = [bs, ctx_len, ctx_word_len]\n",
        "        # char_ques = [bs, ques_len, ques_word_len]\n",
        "        \n",
        "        ctx_len = ctx.shape[1]\n",
        "        \n",
        "        ques_len = ques.shape[1]\n",
        "        \n",
        "        ## GET WORD AND CHARACTER EMBEDDINGS\n",
        "        \n",
        "        ctx_word_embed = self.word_embedding(ctx)\n",
        "        # ctx_word_embed = [bs, ctx_len, emb_dim]\n",
        "        \n",
        "        ques_word_embed = self.word_embedding(ques)\n",
        "        # ques_word_embed = [bs, ques_len, emb_dim]\n",
        "        \n",
        "        ctx_char_embed = self.character_embedding(char_ctx)\n",
        "        # ctx_char_embed =  [bs, ctx_len, emb_dim]\n",
        "        \n",
        "        ques_char_embed = self.character_embedding(char_ques)\n",
        "        # ques_char_embed = [bs, ques_len, emb_dim]\n",
        "        \n",
        "        ## CREATE CONTEXTUAL EMBEDDING\n",
        "        \n",
        "        ctx_contextual_inp = torch.cat([ctx_word_embed, ctx_char_embed],dim=2)\n",
        "        # [bs, ctx_len, emb_dim*2]\n",
        "        \n",
        "        ques_contextual_inp = torch.cat([ques_word_embed, ques_char_embed],dim=2)\n",
        "        # [bs, ques_len, emb_dim*2]\n",
        "        \n",
        "        ctx_contextual_emb = self.contextual_embedding(ctx_contextual_inp)\n",
        "        ques_contextual_emb = self.contextual_embedding(ques_contextual_inp)\n",
        "        # [bs, ques_len, emb_dim*2]\n",
        "        \n",
        "        \n",
        "        ## CREATE SIMILARITY MATRIX\n",
        "        \n",
        "        ctx_ = ctx_contextual_emb.unsqueeze(2).repeat(1,1,ques_len,1)\n",
        "        # [bs, ctx_len, 1, emb_dim*2] => [bs, ctx_len, ques_len, emb_dim*2]\n",
        "        \n",
        "        ques_ = ques_contextual_emb.unsqueeze(1).repeat(1,ctx_len,1,1)\n",
        "        # [bs, 1, ques_len, emb_dim*2] => [bs, ctx_len, ques_len, emb_dim*2]\n",
        "        \n",
        "        elementwise_prod = torch.mul(ctx_, ques_)\n",
        "        # [bs, ctx_len, ques_len, emb_dim*2]\n",
        "        \n",
        "        alpha = torch.cat([ctx_, ques_, elementwise_prod], dim=3)\n",
        "        # [bs, ctx_len, ques_len, emb_dim*6]\n",
        "        \n",
        "        similarity_matrix = self.similarity_weight(alpha).view(-1, ctx_len, ques_len)\n",
        "        # [bs, ctx_len, ques_len]\n",
        "        \n",
        "        \n",
        "        ## CALCULATE CONTEXT2QUERY ATTENTION\n",
        "        \n",
        "        a = F.softmax(similarity_matrix, dim=-1)\n",
        "        # [bs, ctx_len, ques_len]\n",
        "        \n",
        "        c2q = torch.bmm(a, ques_contextual_emb)\n",
        "        # [bs] ([ctx_len, ques_len] X [ques_len, emb_dim*2]) => [bs, ctx_len, emb_dim*2]\n",
        "        \n",
        "        \n",
        "        ## CALCULATE QUERY2CONTEXT ATTENTION\n",
        "        \n",
        "        b = F.softmax(torch.max(similarity_matrix,2)[0], dim=-1)\n",
        "        # [bs, ctx_len]\n",
        "        \n",
        "        b = b.unsqueeze(1)\n",
        "        q2c = torch.bmm(b, ctx_contextual_emb)\n",
        "        # [bs] ([bs, 1, ctx_len] X [bs, ctx_len, emb_dim*2]) => [bs, 1, emb_dim*2]\n",
        "        \n",
        "        q2c = q2c.repeat(1, ctx_len, 1)\n",
        "        # [bs, ctx_len, emb_dim*2]\n",
        "        \n",
        "        ## QUERY AWARE REPRESENTATION\n",
        "        \n",
        "        G = torch.cat([ctx_contextual_emb, c2q, \n",
        "                       torch.mul(ctx_contextual_emb,c2q), \n",
        "                       torch.mul(ctx_contextual_emb, q2c)], dim=2)\n",
        "        \n",
        "        # [bs, ctx_len, emb_dim*8]\n",
        "        \n",
        "        \n",
        "        ## MODELING LAYER\n",
        "        \n",
        "        M, _ = self.modeling_lstm(G)\n",
        "        # [bs, ctx_len, emb_dim*2]\n",
        "        \n",
        "        ## OUTPUT LAYER\n",
        "        \n",
        "        M2, _ = self.end_lstm(M)\n",
        "        \n",
        "        # START PREDICTION\n",
        "        \n",
        "        p1 = self.output_start(torch.cat([G,M], dim=2))\n",
        "        # [bs, ctx_len, 1]\n",
        "        \n",
        "        p1 = p1.squeeze()\n",
        "        # [bs, ctx_len]\n",
        "        \n",
        "        #p1 = F.softmax(p1, dim=-1)\n",
        "        \n",
        "        # END PREDICTION\n",
        "        \n",
        "        p2 = self.output_end(torch.cat([G, M2], dim=2)).squeeze()\n",
        "        # [bs, ctx_len, 1] => [bs, ctx_len]\n",
        "        \n",
        "        #p2 = F.softmax(p2, dim=-1)\n",
        "        \n",
        "        \n",
        "        return p1, p2"
      ],
      "execution_count": null,
      "outputs": []
    },
    {
      "cell_type": "code",
      "metadata": {
        "id": "E4d4iM-GI2Cv",
        "colab_type": "code",
        "colab": {}
      },
      "source": [
        "CHAR_VOCAB_DIM = len(char2idx)\n",
        "EMB_DIM = 100\n",
        "CHAR_EMB_DIM = 8\n",
        "NUM_OUTPUT_CHANNELS = 100\n",
        "KERNEL_SIZE = (8,5)\n",
        "HIDDEN_DIM = 100\n",
        "device = torch.device('cuda')\n",
        "\n",
        "model = BiDAF(CHAR_VOCAB_DIM, \n",
        "              EMB_DIM, \n",
        "              CHAR_EMB_DIM, \n",
        "              NUM_OUTPUT_CHANNELS, \n",
        "              KERNEL_SIZE, \n",
        "              HIDDEN_DIM, \n",
        "              device).to(device)"
      ],
      "execution_count": null,
      "outputs": []
    },
    {
      "cell_type": "code",
      "metadata": {
        "id": "iBQjwxEiI7b5",
        "colab_type": "code",
        "colab": {}
      },
      "source": [
        "\n",
        "import torch.optim as optim\n",
        "from torch.autograd import Variable\n",
        "optimizer = optim.Adadelta(model.parameters())"
      ],
      "execution_count": null,
      "outputs": []
    },
    {
      "cell_type": "code",
      "metadata": {
        "id": "e8IJ5JZ5TpnV",
        "colab_type": "code",
        "colab": {}
      },
      "source": [
        "def plot_grad_flow(named_parameters):\n",
        "    '''Plots the gradients flowing through different layers in the net during training.\n",
        "    Can be used for checking for possible gradient vanishing / exploding problems.\n",
        "    \n",
        "    Usage: Plug this function in Trainer class after loss.backwards() as \n",
        "    \"plot_grad_flow(self.model.named_parameters())\" to visualize the gradient flow'''\n",
        "    ave_grads = []\n",
        "    max_grads= []\n",
        "    layers = []\n",
        "    for n, p in named_parameters:\n",
        "        if(p.requires_grad) and (\"bias\" not in n):\n",
        "            layers.append(n)\n",
        "            ave_grads.append(p.grad.abs().mean())\n",
        "            max_grads.append(p.grad.abs().max())\n",
        "    plt.bar(np.arange(len(max_grads)), max_grads, alpha=0.1, lw=1, color=\"c\")\n",
        "    plt.bar(np.arange(len(max_grads)), ave_grads, alpha=0.1, lw=1, color=\"b\")\n",
        "    plt.hlines(0, 0, len(ave_grads)+1, lw=2, color=\"k\" )\n",
        "    plt.xticks(range(0,len(ave_grads), 1), layers, rotation=\"vertical\")\n",
        "    plt.xlim(left=0, right=len(ave_grads))\n",
        "    plt.ylim(bottom = -0.001, top=0.02) # zoom in on the lower gradient regions\n",
        "    plt.xlabel(\"Layers\")\n",
        "    plt.ylabel(\"average gradient\")\n",
        "    plt.title(\"Gradient flow\")\n",
        "    plt.grid(True)\n",
        "    plt.legend([Line2D([0], [0], color=\"c\", lw=4),\n",
        "                Line2D([0], [0], color=\"b\", lw=4),\n",
        "                Line2D([0], [0], color=\"k\", lw=4)], ['max-gradient', 'mean-gradient', 'zero-gradient'])"
      ],
      "execution_count": null,
      "outputs": []
    },
    {
      "cell_type": "code",
      "metadata": {
        "id": "juUCK2viI-Hu",
        "colab_type": "code",
        "colab": {}
      },
      "source": [
        "def train(model, train_dataset):\n",
        "    print(\"Starting training ........\")\n",
        "   \n",
        "\n",
        "    train_loss = 0.\n",
        "    batch_count = 0\n",
        "    model.train()\n",
        "    for batch in train_dataset:\n",
        "        \n",
        "        optimizer.zero_grad()\n",
        "    \n",
        "        if batch_count % 500 == 0:\n",
        "            print(f\"Starting batch: {batch_count}\")\n",
        "        batch_count += 1\n",
        "        \n",
        "        context, question, char_ctx, char_ques, label, ctx_text, ans, ids = batch\n",
        "\n",
        "        context, question, char_ctx, char_ques, label = context.to(device), question.to(device),\\\n",
        "                                   char_ctx.to(device), char_ques.to(device), label.to(device)\n",
        "\n",
        "\n",
        "        preds = model(context, question, char_ctx, char_ques)\n",
        "\n",
        "        start_pred, end_pred = preds\n",
        "\n",
        "        s_idx, e_idx = label[:,0], label[:,1]\n",
        "\n",
        "        loss = F.cross_entropy(start_pred, s_idx) + F.cross_entropy(end_pred, e_idx)\n",
        "\n",
        "        loss.backward()\n",
        "        \n",
        "        plot_grad_flow(model.named_parameters())\n",
        "        \n",
        "        for name, param in model.named_parameters():\n",
        "            if(param.requires_grad) and (\"bias\" not in name):\n",
        "                writer.add_histogram(name+'_grad',param.grad.abs().mean())\n",
        "    \n",
        "\n",
        "        optimizer.step()\n",
        "\n",
        "        train_loss += loss.item()\n",
        "\n",
        "    return train_loss/len(train_dataset)"
      ],
      "execution_count": null,
      "outputs": []
    },
    {
      "cell_type": "code",
      "metadata": {
        "id": "CmX5ZmB7JH6z",
        "colab_type": "code",
        "colab": {}
      },
      "source": [
        "def valid(model, valid_dataset):\n",
        "    \n",
        "    print(\"Starting validation .........\")\n",
        "   \n",
        "    valid_loss = 0.\n",
        "\n",
        "    batch_count = 0\n",
        "    \n",
        "    f1, em = 0., 0.\n",
        "    \n",
        "    model.eval()\n",
        "        \n",
        "   \n",
        "    predictions = {}\n",
        "    \n",
        "    for batch in valid_dataset:\n",
        "\n",
        "        if batch_count % 500 == 0:\n",
        "            print(f\"Starting batch {batch_count}\")\n",
        "        batch_count += 1\n",
        "\n",
        "        context, question, char_ctx, char_ques, label, ctx, answers, ids = batch\n",
        "\n",
        "        context, question, char_ctx, char_ques, label = context.to(device), question.to(device),\\\n",
        "                                   char_ctx.to(device), char_ques.to(device), label.to(device)\n",
        "        \n",
        "       \n",
        "\n",
        "        \n",
        "        with torch.no_grad():\n",
        "            \n",
        "            s_idx, e_idx = label[:,0], label[:,1]\n",
        "\n",
        "            preds = model(context, question, char_ctx, char_ques)\n",
        "\n",
        "            p1, p2 = preds\n",
        "\n",
        "            \n",
        "            loss = F.cross_entropy(p1, s_idx) + F.cross_entropy(p2, e_idx)\n",
        "\n",
        "            valid_loss += loss.item()\n",
        "\n",
        "            batch_size, c_len = p1.size()\n",
        "            ls = nn.LogSoftmax(dim=1)\n",
        "            mask = (torch.ones(c_len, c_len) * float('-inf')).to(device).tril(-1).unsqueeze(0).expand(batch_size, -1, -1)\n",
        "            score = (ls(p1).unsqueeze(2) + ls(p2).unsqueeze(1)) + mask\n",
        "            score, s_idx = score.max(dim=1)\n",
        "            score, e_idx = score.max(dim=1)\n",
        "            s_idx = torch.gather(s_idx, 1, e_idx.view(-1, 1)).squeeze()\n",
        "            \n",
        "           \n",
        "            for i in range(batch_size):\n",
        "                id = ids[i]\n",
        "                pred = context[i][s_idx[i]:e_idx[i]+1]\n",
        "                pred = ' '.join([idx2word[idx.item()] for idx in pred])\n",
        "                predictions[id] = pred\n",
        "            \n",
        "\n",
        "    \n",
        "    em, f1 = evaluate(predictions)\n",
        "    return valid_loss/len(valid_dataset), em, f1\n"
      ],
      "execution_count": null,
      "outputs": []
    },
    {
      "cell_type": "code",
      "metadata": {
        "id": "eOFiu07sJPjO",
        "colab_type": "code",
        "colab": {}
      },
      "source": [
        "def evaluate(predictions):\n",
        "    with open('/content/drive/My Drive/Colab Notebooks/SQUAD/data/dev-v1.1.json','r',encoding='utf-8') as f:\n",
        "        dataset = json.load(f)\n",
        "        \n",
        "    dataset = dataset['data']\n",
        "    f1 = exact_match = total = 0\n",
        "    for article in dataset:\n",
        "        for paragraph in article['paragraphs']:\n",
        "            for qa in paragraph['qas']:\n",
        "                total += 1\n",
        "                if qa['id'] not in predictions:\n",
        "                    continue\n",
        "                \n",
        "                ground_truths = list(map(lambda x: x['text'], qa['answers']))\n",
        "                \n",
        "                prediction = predictions[qa['id']]\n",
        "                \n",
        "                exact_match += metric_max_over_ground_truths(\n",
        "                    exact_match_score, prediction, ground_truths)\n",
        "                \n",
        "                f1 += metric_max_over_ground_truths(\n",
        "                    f1_score, prediction, ground_truths)\n",
        "                \n",
        "    \n",
        "    exact_match = 100.0 * exact_match / total\n",
        "    f1 = 100.0 * f1 / total\n",
        "    \n",
        "    return exact_match, f1"
      ],
      "execution_count": null,
      "outputs": []
    },
    {
      "cell_type": "code",
      "metadata": {
        "id": "BmoZXqDPKK-h",
        "colab_type": "code",
        "colab": {}
      },
      "source": [
        "def normalize_answer(s):\n",
        "    '''\n",
        "    Performs a series of cleaning steps on the ground truth and \n",
        "    predicted answer.\n",
        "    '''\n",
        "    def remove_articles(text):\n",
        "        return re.sub(r'\\b(a|an|the)\\b', ' ', text)\n",
        "\n",
        "    def white_space_fix(text):\n",
        "        return ' '.join(text.split())\n",
        "\n",
        "    def remove_punc(text):\n",
        "        exclude = set(string.punctuation)\n",
        "        return ''.join(ch for ch in text if ch not in exclude)\n",
        "\n",
        "    def lower(text):\n",
        "        return text.lower()\n",
        "\n",
        "    return white_space_fix(remove_articles(remove_punc(lower(s))))\n",
        "\n",
        "\n",
        "def metric_max_over_ground_truths(metric_fn, prediction, ground_truths):\n",
        "    '''\n",
        "    Returns maximum value of metrics for predicition by model against\n",
        "    multiple ground truths.\n",
        "    \n",
        "    :param func metric_fn: can be 'exact_match_score' or 'f1_score'\n",
        "    :param str prediction: predicted answer span by the model\n",
        "    :param list ground_truths: list of ground truths against which\n",
        "                               metrics are calculated. Maximum values of \n",
        "                               metrics are chosen.\n",
        "                            \n",
        "    \n",
        "    '''\n",
        "    scores_for_ground_truths = []\n",
        "    for ground_truth in ground_truths:\n",
        "        score = metric_fn(prediction, ground_truth)\n",
        "        scores_for_ground_truths.append(score)\n",
        "        \n",
        "    return max(scores_for_ground_truths)\n",
        "\n",
        "def f1_score(prediction, ground_truth):\n",
        "    '''\n",
        "    Returns f1 score of two strings.\n",
        "    '''\n",
        "    prediction_tokens = normalize_answer(prediction).split()\n",
        "    ground_truth_tokens = normalize_answer(ground_truth).split()\n",
        "    common = Counter(prediction_tokens) & Counter(ground_truth_tokens)\n",
        "    num_same = sum(common.values())\n",
        "    if num_same == 0:\n",
        "        return 0\n",
        "    precision = 1.0 * num_same / len(prediction_tokens)\n",
        "    recall = 1.0 * num_same / len(ground_truth_tokens)\n",
        "    f1 = (2 * precision * recall) / (precision + recall)\n",
        "    return f1\n",
        "\n",
        "\n",
        "def exact_match_score(prediction, ground_truth):\n",
        "    '''\n",
        "    Returns exact_match_score of two strings.\n",
        "    '''\n",
        "    return (normalize_answer(prediction) == normalize_answer(ground_truth))\n",
        "\n",
        "\n",
        "def epoch_time(start_time, end_time):\n",
        "    '''\n",
        "    Helper function to record epoch time.\n",
        "    '''\n",
        "    elapsed_time = end_time - start_time\n",
        "    elapsed_mins = int(elapsed_time / 60)\n",
        "    elapsed_secs = int(elapsed_time - (elapsed_mins * 60))\n",
        "    return elapsed_mins, elapsed_secs"
      ],
      "execution_count": null,
      "outputs": []
    },
    {
      "cell_type": "code",
      "metadata": {
        "id": "P9i109DnKtaF",
        "colab_type": "code",
        "colab": {
          "base_uri": "https://localhost:8080/",
          "height": 622
        },
        "outputId": "7f96c773-8445-447b-f85b-ffba270bbd9f"
      },
      "source": [
        "train_losses = []\n",
        "valid_losses = []\n",
        "ems = []\n",
        "f1s = []\n",
        "epochs = 5\n",
        "for epoch in range(epochs):\n",
        "    print(f\"Epoch {epoch+1}\")\n",
        "    start_time = time.time()\n",
        "    \n",
        "    train_loss = train(model, train_dataset)\n",
        "    valid_loss, em, f1 = valid(model, valid_dataset)\n",
        "    \n",
        "    writer.add_scalar('train_loss', train_loss, epoch)\n",
        "    writer.add_scalar('valid_loss', valid_loss, epoch)\n",
        "    \n",
        "    \n",
        "    for name, param in model.named_parameters():\n",
        "        writer.add_histogram(name, param, epoch)\n",
        "    \n",
        "    torch.save({\n",
        "            'epoch': epoch,\n",
        "            'model_state_dict': model.state_dict(),\n",
        "            'optimizer_state_dict': optimizer.state_dict(),\n",
        "            'loss': valid_loss,\n",
        "            'em':em,\n",
        "            'f1':f1,\n",
        "            }, '/content/drive/My Drive/Colab Notebooks/SQUAD/data/bidaf_run4_{}.pth'.format(epoch))\n",
        "    \n",
        "    \n",
        "    end_time = time.time()\n",
        "    \n",
        "    epoch_mins, epoch_secs = epoch_time(start_time, end_time)\n",
        "    \n",
        "    train_losses.append(train_loss)\n",
        "    valid_losses.append(valid_loss)\n",
        "    ems.append(em)\n",
        "    f1s.append(f1)\n",
        "\n",
        "    print(f\"Epoch train loss : {train_loss}| Time: {epoch_mins}m {epoch_secs}s\")\n",
        "    print(f\"Epoch valid loss: {valid_loss}\")\n",
        "    print(f\"Epoch EM: {em}\")\n",
        "    print(f\"Epoch F1: {f1}\")\n",
        "    print(\"====================================================================================\")\n"
      ],
      "execution_count": null,
      "outputs": [
        {
          "output_type": "stream",
          "text": [
            "Epoch 1\n",
            "Starting training ........\n",
            "Starting batch: 0\n",
            "Starting batch: 500\n",
            "Starting batch: 1000\n",
            "Starting batch: 1500\n",
            "Starting batch: 2000\n",
            "Starting batch: 2500\n",
            "Starting batch: 3000\n",
            "Starting batch: 3500\n",
            "Starting batch: 4000\n",
            "Starting batch: 4500\n",
            "Starting batch: 5000\n",
            "Starting validation .........\n",
            "Starting batch 0\n",
            "Starting batch 500\n",
            "Starting batch 1000\n",
            "Starting batch 1500\n",
            "Starting batch 2000\n",
            "Epoch train loss : 5.675992854923676| Time: 34m 45s\n",
            "Epoch valid loss: 5.110460937996534\n",
            "Epoch EM: 31.62724692526017\n",
            "Epoch F1: 42.94472006742021\n",
            "====================================================================================\n",
            "Epoch 2\n",
            "Starting training ........\n",
            "Starting batch: 0\n",
            "Starting batch: 500\n",
            "Starting batch: 1000\n",
            "Starting batch: 1500\n",
            "Starting batch: 2000\n",
            "Starting batch: 2500\n",
            "Starting batch: 3000\n",
            "Starting batch: 3500\n",
            "Starting batch: 4000\n",
            "Starting batch: 4500\n"
          ],
          "name": "stdout"
        }
      ]
    },
    {
      "cell_type": "code",
      "metadata": {
        "id": "oZExFkfBbama",
        "colab_type": "code",
        "colab": {}
      },
      "source": [
        ""
      ],
      "execution_count": null,
      "outputs": []
    }
  ]
}