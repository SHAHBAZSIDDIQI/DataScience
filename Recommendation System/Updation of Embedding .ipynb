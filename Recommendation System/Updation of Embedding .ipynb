{
 "cells": [
  {
   "cell_type": "code",
   "execution_count": null,
   "metadata": {},
   "outputs": [],
   "source": [
    "# The pupose of this notebook is to test the updation of the emebeddings"
   ]
  },
  {
   "cell_type": "code",
   "execution_count": 1,
   "metadata": {},
   "outputs": [],
   "source": [
    "import pandas as pd\n",
    "import numpy as np\n",
    "import re\n",
    "from gensim.models.doc2vec import Doc2Vec,TaggedDocument\n",
    "from nltk.tokenize import word_tokenize\n",
    "from nltk.stem import WordNetLemmatizer\n",
    "from gensim.models.doc2vec import Doc2Vec\n",
    "import random\n",
    "import string\n",
    "from sklearn.manifold import TSNE\n",
    "import matplotlib.pyplot as plt\n",
    "%matplotlib inline"
   ]
  },
  {
   "cell_type": "code",
   "execution_count": 2,
   "metadata": {},
   "outputs": [],
   "source": [
    "from scipy import spatial\n",
    "from nltk.corpus import stopwords\n",
    "stop_words = set(stopwords.words('english'))\n",
    "punctuations = '''!()-[]{};:'\"\\,<>./?@#$%^&*_~'''\n",
    "lemmatizer = WordNetLemmatizer()\n",
    "import math"
   ]
  },
  {
   "cell_type": "code",
   "execution_count": 3,
   "metadata": {},
   "outputs": [],
   "source": [
    "vec_one = np.ones(768)"
   ]
  },
  {
   "cell_type": "code",
   "execution_count": 4,
   "metadata": {
    "scrolled": true
   },
   "outputs": [],
   "source": [
    "vec_zero = np.zeros(768)"
   ]
  },
  {
   "cell_type": "code",
   "execution_count": 7,
   "metadata": {},
   "outputs": [],
   "source": [
    "######## For post Doc method either 768 embedding of tweets need to go, or meta deta will have to be zero ###########"
   ]
  },
  {
   "cell_type": "code",
   "execution_count": 5,
   "metadata": {},
   "outputs": [],
   "source": [
    "vec_tweetupdate = np.concatenate((vec_zero,vec_one), axis = None) \n",
    "MatrixForTweetUpdate = np.diag(vec_tweetupdate)"
   ]
  },
  {
   "cell_type": "code",
   "execution_count": 104,
   "metadata": {},
   "outputs": [],
   "source": [
    "Main_df = pd.read_csv('C:/Users/SHAHBAZ/ZS UserEmbedding/BERT Embedding/MainDF.csv')\n",
    "Main_df = Main_df[[\"AUTHOR_ID\",\"TRANS_AUTHOR_BIO\",\"Snippet\"]]"
   ]
  },
  {
   "cell_type": "code",
   "execution_count": 107,
   "metadata": {},
   "outputs": [],
   "source": [
    "Main_df.to_csv('test.csv', header=True, index=False) "
   ]
  },
  {
   "cell_type": "code",
   "execution_count": 105,
   "metadata": {},
   "outputs": [
    {
     "name": "stdout",
     "output_type": "stream",
     "text": [
      "Author Name  :433    CDFrazier87\n",
      "Name: AUTHOR_ID, dtype: object\n",
      "Author Info  :433    ['B.A., @DickinsonCol and M.A./Ph.D., @Georget...\n",
      "Name: TRANS_AUTHOR_BIO, dtype: object\n",
      "Tweet  :433    ['Diabetes, asthma, and heart disease, can res...\n",
      "Name: Snippet, dtype: object\n"
     ]
    }
   ],
   "source": [
    "print(\"Author Name  :\" + str(rowd['AUTHOR_ID']))\n",
    "print(\"Author Info  :\" + str(rowd['TRANS_AUTHOR_BIO']))\n",
    "print(\"Tweet  :\" + str(rowd['Snippet']))"
   ]
  },
  {
   "cell_type": "code",
   "execution_count": 7,
   "metadata": {},
   "outputs": [],
   "source": [
    "def getlabelforUser(userEmb,categoryList):\n",
    "    listScoreUser = []\n",
    "    for category in categoryList:\n",
    "        listScoreUser.append(measureSimilarityMeanofUser(userEmb,category))    \n",
    "    m =  max(listScoreUser)    \n",
    "    return (listScoreUser.index(m) + 1)\n",
    "\n",
    "from scipy import spatial\n",
    "def measureSimilarityMeanofUser(userEmb,category):\n",
    "    sumsc = 0\n",
    "    for user in category:\n",
    "        res = 1 - spatial.distance.cosine(user,userEmb)\n",
    "        sumsc = sumsc + res\n",
    "    \n",
    "    mean = sumsc / len(category)\n",
    "    return mean\n",
    "\n",
    "import random\n",
    "def customSplit(category,num):\n",
    "    random.Random(7).shuffle(category)\n",
    "    return category[:num]"
   ]
  },
  {
   "cell_type": "code",
   "execution_count": 8,
   "metadata": {},
   "outputs": [],
   "source": [
    "def ReadMatfromPath(fileName):\n",
    "    ReadFilepath = \"C:/Users/SHAHBAZ/ZS UserEmbedding/BERT Embedding/\" + str(fileName) + \"_Matrix.txt\"\n",
    "    UserEmb = np.loadtxt(ReadFilepath)\n",
    "    return UserEmb"
   ]
  },
  {
   "cell_type": "code",
   "execution_count": 9,
   "metadata": {},
   "outputs": [],
   "source": [
    "############### Building the categories for mapping #################"
   ]
  },
  {
   "cell_type": "code",
   "execution_count": 10,
   "metadata": {},
   "outputs": [],
   "source": [
    "train_df = pd.read_csv('TrainData_1.csv')\n",
    "train_df['Embedding'] = \"\"\n",
    "train_df = train_df.dropna()"
   ]
  },
  {
   "cell_type": "code",
   "execution_count": 11,
   "metadata": {},
   "outputs": [],
   "source": [
    "def PreprareTrainDataEmb(Mat,authorId):\n",
    "    rowd = Main_df.loc[Main_df['AUTHOR_ID'] == authorId]\n",
    "    ind = rowd.index.values.astype(int)[0]\n",
    "    return Mat[ind]"
   ]
  },
  {
   "cell_type": "code",
   "execution_count": 12,
   "metadata": {},
   "outputs": [],
   "source": [
    "def CombineMatrix(Mat1,Mat2):\n",
    "    Mat = np.zeros((Mat1.shape[1] + Mat2.shape[1]))\n",
    "    for i in range (1,Mat1.shape[0]):\n",
    "        vec = []\n",
    "        vec = np.concatenate((vec,Mat1[i]), axis=None)\n",
    "        vec = np.concatenate((vec,Mat2[i]), axis=None)\n",
    "        Mat = np.vstack((Mat,vec))\n",
    "    return Mat    "
   ]
  },
  {
   "cell_type": "code",
   "execution_count": 18,
   "metadata": {},
   "outputs": [],
   "source": [
    "train_df['Embedding'] = [PreprareTrainDataEmb(BioBert1636,x['AUTHOR_ID']) for _,x in train_df.iterrows()]"
   ]
  },
  {
   "cell_type": "code",
   "execution_count": 19,
   "metadata": {},
   "outputs": [],
   "source": [
    "    category1 = []   #28     Nurse\n",
    "    category2 = []   #119    doctors\n",
    "    category3 = []   #80     prof student organisation\n",
    "    category4 = []   #72     others\n",
    "\n",
    "    for _,trow in train_df.iterrows():\n",
    "        if(trow['Label'] == 1.0):\n",
    "            category1.append(trow['Embedding'])\n",
    "        if(trow['Label'] == 2.0):\n",
    "            category3.append(trow['Embedding'])\n",
    "        if(trow['Label'] == 3.0):\n",
    "            category2.append(trow['Embedding'])\n",
    "        if(trow['Label'] == 4.0):\n",
    "            category2.append(trow['Embedding'])\n",
    "        if(trow['Label'] == 5.0):\n",
    "            category4.append(trow['Embedding'])\n",
    "        if(trow['Label'] == 6.0):\n",
    "            category2.append(trow['Embedding'])\n",
    "        if(trow['Label'] == 7.0):\n",
    "            category3.append(trow['Embedding'])\n",
    "        if(trow['Label'] == 8.0):\n",
    "            category3.append(trow['Embedding'])"
   ]
  },
  {
   "cell_type": "code",
   "execution_count": 20,
   "metadata": {},
   "outputs": [],
   "source": [
    "category1 = customSplit(category1,25)\n",
    "category2 = customSplit(category2,25)\n",
    "category3 = customSplit(category3,25)\n",
    "category4 = customSplit(category4,25)"
   ]
  },
  {
   "cell_type": "code",
   "execution_count": 21,
   "metadata": {},
   "outputs": [],
   "source": [
    "categoryList = []\n",
    "categoryList.append(category1)\n",
    "categoryList.append(category2)\n",
    "categoryList.append(category3)\n",
    "categoryList.append(category4)"
   ]
  },
  {
   "cell_type": "code",
   "execution_count": 31,
   "metadata": {},
   "outputs": [],
   "source": [
    "############## Testing for bioBert 1536 + 100 dim deepwalk embedding ##########"
   ]
  },
  {
   "cell_type": "code",
   "execution_count": 13,
   "metadata": {},
   "outputs": [],
   "source": [
    "DeepWalkEmb = ReadMatfromPath('DeepWalk')   \n",
    "BioBertSnippetEmbMat = ReadMatfromPath('BioBERT_SnippetEmb')\n",
    "BioBertAuthorInfoEmbMat = ReadMatfromPath('BioBERT_Autho_Info_Embedding')"
   ]
  },
  {
   "cell_type": "code",
   "execution_count": 15,
   "metadata": {},
   "outputs": [],
   "source": [
    "BioBertSnippetEmbMat = BioBertSnippetEmbMat[1:,:]\n",
    "BioBertAuthorInfoEmbMat = BioBertAuthorInfoEmbMat[1:,:]\n",
    "DeepWalkEmb = DeepWalkEmb[:4280,:]"
   ]
  },
  {
   "cell_type": "code",
   "execution_count": 16,
   "metadata": {},
   "outputs": [],
   "source": [
    "BioBert1536 = CombineMatrix(BioBertSnippetEmbMat,BioBertAuthorInfoEmbMat)"
   ]
  },
  {
   "cell_type": "code",
   "execution_count": 17,
   "metadata": {},
   "outputs": [],
   "source": [
    "BioBert1636 = CombineMatrix(BioBert1536,DeepWalkEmb)"
   ]
  },
  {
   "cell_type": "code",
   "execution_count": 25,
   "metadata": {},
   "outputs": [
    {
     "data": {
      "text/plain": [
       "433"
      ]
     },
     "execution_count": 25,
     "metadata": {},
     "output_type": "execute_result"
    }
   ],
   "source": [
    "rowd = Main_df.loc[Main_df['AUTHOR_ID'] == 'CDFrazier87']\n",
    "ind = rowd.index.values.astype(int)[0]\n",
    "ind"
   ]
  },
  {
   "cell_type": "code",
   "execution_count": 26,
   "metadata": {},
   "outputs": [],
   "source": [
    "original_emb = BioBert1636[ind]"
   ]
  },
  {
   "cell_type": "code",
   "execution_count": 27,
   "metadata": {},
   "outputs": [
    {
     "data": {
      "text/plain": [
       "3"
      ]
     },
     "execution_count": 27,
     "metadata": {},
     "output_type": "execute_result"
    }
   ],
   "source": [
    "getlabelforUser(original_emb,categoryList)   #correctly classified to Student"
   ]
  },
  {
   "cell_type": "code",
   "execution_count": 28,
   "metadata": {},
   "outputs": [
    {
     "data": {
      "text/plain": [
       "420"
      ]
     },
     "execution_count": 28,
     "metadata": {},
     "output_type": "execute_result"
    }
   ],
   "source": [
    "rowd = Main_df.loc[Main_df['AUTHOR_ID'] == 'BrukeGetachew']\n",
    "ind = rowd.index.values.astype(int)[0]\n",
    "ind"
   ]
  },
  {
   "cell_type": "code",
   "execution_count": 29,
   "metadata": {},
   "outputs": [],
   "source": [
    "original2_emb = BioBert1636[ind]"
   ]
  },
  {
   "cell_type": "code",
   "execution_count": 30,
   "metadata": {},
   "outputs": [
    {
     "data": {
      "text/plain": [
       "4"
      ]
     },
     "execution_count": 30,
     "metadata": {},
     "output_type": "execute_result"
    }
   ],
   "source": [
    "getlabelforUser(original2_emb,categoryList) # correct classified as others is a data scientist "
   ]
  },
  {
   "cell_type": "code",
   "execution_count": 37,
   "metadata": {},
   "outputs": [
    {
     "data": {
      "text/plain": [
       "336"
      ]
     },
     "execution_count": 37,
     "metadata": {},
     "output_type": "execute_result"
    }
   ],
   "source": [
    "rowd = Main_df.loc[Main_df['AUTHOR_ID'] == 'Beth17459893']\n",
    "ind = rowd.index.values.astype(int)[0]\n",
    "ind"
   ]
  },
  {
   "cell_type": "code",
   "execution_count": 38,
   "metadata": {},
   "outputs": [],
   "source": [
    "target_emb = BioBert1636[ind]"
   ]
  },
  {
   "cell_type": "code",
   "execution_count": 39,
   "metadata": {},
   "outputs": [
    {
     "data": {
      "text/plain": [
       "1"
      ]
     },
     "execution_count": 39,
     "metadata": {},
     "output_type": "execute_result"
    }
   ],
   "source": [
    "getlabelforUser(target_emb,categoryList) # correct classified as Nurse "
   ]
  },
  {
   "cell_type": "code",
   "execution_count": 64,
   "metadata": {},
   "outputs": [
    {
     "data": {
      "text/plain": [
       "271"
      ]
     },
     "execution_count": 64,
     "metadata": {},
     "output_type": "execute_result"
    }
   ],
   "source": [
    "rowd = Main_df.loc[Main_df['AUTHOR_ID'] == 'AuntLowlen']\n",
    "ind = rowd.index.values.astype(int)[0]\n",
    "ind"
   ]
  },
  {
   "cell_type": "code",
   "execution_count": 65,
   "metadata": {},
   "outputs": [],
   "source": [
    "target2_emb = BioBert1636[ind]"
   ]
  },
  {
   "cell_type": "code",
   "execution_count": 66,
   "metadata": {},
   "outputs": [
    {
     "data": {
      "text/plain": [
       "3"
      ]
     },
     "execution_count": 66,
     "metadata": {},
     "output_type": "execute_result"
    }
   ],
   "source": [
    "getlabelforUser(target2_emb,categoryList)  # classified since professor"
   ]
  },
  {
   "cell_type": "code",
   "execution_count": 69,
   "metadata": {
    "collapsed": true
   },
   "outputs": [
    {
     "data": {
      "text/plain": [
       "array([-0.01049469, -0.15814716, -0.49185997, -0.09459099, -0.4635784 ,\n",
       "        0.18302421, -0.64892507, -0.42392343, -0.25053915, -0.39454412,\n",
       "       -0.60996133,  0.08691426,  0.08658071,  0.38523731,  0.09279715,\n",
       "       -0.75825781, -0.13066663, -0.1792139 , -0.42092815, -0.0130418 ,\n",
       "       -0.18073395, -0.46512792,  0.0489935 ,  0.09113819,  0.2206409 ,\n",
       "        0.12321874, -0.48454323, -0.24975935, -0.21950181,  0.8278265 ,\n",
       "        0.37762299,  0.02836859,  0.37850013, -0.26743799,  0.59439057,\n",
       "        0.214417  , -0.19457734,  0.23971429,  0.22797388,  0.38492185,\n",
       "        0.14186861, -0.6096555 ,  0.15769678,  0.04523146,  1.03874218,\n",
       "       -0.42761239,  0.25639629, -0.78074664,  0.62243187,  0.14092943,\n",
       "        0.17973492, -0.21092811, -0.35285714, -0.40570223,  0.03142745,\n",
       "        0.07292751, -0.41196436,  0.36316538, -0.35537586,  0.60011172,\n",
       "       -0.1879559 ,  0.03515817, -0.10196326, -0.71267188, -0.25009611,\n",
       "        0.24955718, -0.72345257, -0.13628791,  0.18498449, -0.48156637,\n",
       "       -0.24476135,  0.57539463, -0.37195328, -0.53375793, -0.77523154,\n",
       "        0.11282364, -0.77689821,  0.52471191,  0.27746975, -0.1832107 ,\n",
       "       -0.65025884,  0.12504841,  0.07701952,  0.30363005,  0.54523277,\n",
       "        0.2628524 , -0.03059218,  0.89865947, -0.01035754,  0.13953428,\n",
       "        0.47065407,  0.44175684, -0.10815768,  0.60612398, -0.18367422,\n",
       "       -0.1160425 , -0.09076899,  0.12890591,  0.25731111, -0.54784727])"
      ]
     },
     "execution_count": 69,
     "metadata": {},
     "output_type": "execute_result"
    }
   ],
   "source": [
    "DeepWalkEmb[433]"
   ]
  },
  {
   "cell_type": "code",
   "execution_count": 70,
   "metadata": {},
   "outputs": [],
   "source": [
    "TestMat = np.zeros(1536)"
   ]
  },
  {
   "cell_type": "code",
   "execution_count": 76,
   "metadata": {},
   "outputs": [],
   "source": [
    "vec = []\n",
    "vec = np.concatenate((BioBertSnippetEmbMat[420],BioBertSnippetEmbMat[270]))\n",
    "TestMat = np.vstack((TestMat,vec))"
   ]
  },
  {
   "cell_type": "code",
   "execution_count": 78,
   "metadata": {},
   "outputs": [],
   "source": [
    "TestMat = TestMat[1:,:]"
   ]
  },
  {
   "cell_type": "code",
   "execution_count": 79,
   "metadata": {},
   "outputs": [],
   "source": [
    "Savefilepath = \"C:/Users/SHAHBAZ/ZS UserEmbedding/AutoEncoderInputUserMatrix/\"\n",
    "fileName = Savefilepath + \"New_Update_Testing_1536.txt\"\n",
    "np.savetxt(fileName,TestMat,fmt='%.8f') "
   ]
  },
  {
   "cell_type": "code",
   "execution_count": 80,
   "metadata": {},
   "outputs": [],
   "source": [
    "#######load Mat#########"
   ]
  },
  {
   "cell_type": "code",
   "execution_count": 81,
   "metadata": {},
   "outputs": [],
   "source": [
    "DeepWalkUpdated_Mat = ReadMatfromPath('DeepWalkForUpdate')   \n",
    "UpdatedSnippetEmb_BioBERT = ReadMatfromPath('Update_Testing_768') "
   ]
  },
  {
   "cell_type": "code",
   "execution_count": 94,
   "metadata": {},
   "outputs": [
    {
     "data": {
      "text/plain": [
       "(1636,)"
      ]
     },
     "execution_count": 94,
     "metadata": {},
     "output_type": "execute_result"
    }
   ],
   "source": [
    "new_original_updated1 = []\n",
    "new_original_updated1 = np.concatenate((new_original_updated1,UpdatedSnippetEmb_BioBERT[3]),axis=None)\n",
    "new_original_updated1 = np.concatenate((new_original_updated1,BioBertAuthorInfoEmbMat[420]),axis=None)\n",
    "new_original_updated1 = np.concatenate((new_original_updated1,DeepWalkUpdated_Mat[3]),axis=None)\n",
    "new_original_updated1.shape"
   ]
  },
  {
   "cell_type": "code",
   "execution_count": 97,
   "metadata": {},
   "outputs": [
    {
     "data": {
      "text/plain": [
       "3"
      ]
     },
     "execution_count": 97,
     "metadata": {},
     "output_type": "execute_result"
    }
   ],
   "source": [
    "getlabelforUser(new_original_updated1,categoryList)"
   ]
  },
  {
   "cell_type": "code",
   "execution_count": null,
   "metadata": {},
   "outputs": [],
   "source": []
  }
 ],
 "metadata": {
  "kernelspec": {
   "display_name": "Python 3",
   "language": "python",
   "name": "python3"
  },
  "language_info": {
   "codemirror_mode": {
    "name": "ipython",
    "version": 3
   },
   "file_extension": ".py",
   "mimetype": "text/x-python",
   "name": "python",
   "nbconvert_exporter": "python",
   "pygments_lexer": "ipython3",
   "version": "3.7.3"
  }
 },
 "nbformat": 4,
 "nbformat_minor": 2
}
